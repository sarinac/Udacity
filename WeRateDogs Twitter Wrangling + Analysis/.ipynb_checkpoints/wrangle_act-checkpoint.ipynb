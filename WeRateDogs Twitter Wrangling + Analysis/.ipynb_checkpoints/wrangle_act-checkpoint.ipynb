{
 "cells": [
  {
   "cell_type": "markdown",
   "metadata": {},
   "source": [
    "# Data Wrangling and Analysis via Twitter\n",
    "\n",
    "**Objective:** Wrangle WeRateDogs Twitter data to create interesting and trustworthy analyses and visualizations.\n",
    "\n",
    "Accomplish the following: \n",
    "- Gather data from 3 different sources and formats.\n",
    "- Identify and clean 8 quality (content) issues.\n",
    "- Identify and clean 2 tidiness (structure) issues.\n",
    "- Analyze data by producing 3 insights and 1 visualization.\n",
    "\n",
    "## Table of Contents \n",
    "- [Introduction](#intro)\n",
    "- [Gather](#gather)\n",
    "- [Assess](#assess)\n",
    "- [Clean](#clean)\n",
    "- [Analyze](#analyze)\n",
    "\n",
    "<a id='intro'></a>\n",
    "## Introduction\n",
    "\n",
    "**Dogtionary:** There are various stages of dog, which will be part of the observed data: doggo, pupper, puppo, and floof(er).\n",
    "\n",
    "**Data Information:** \n",
    "\n",
    "_Twitter Archive_\n",
    "\n",
    "The WeRateDogs Twitter archive is a file called `twitter-archive-enhanced.csv` that contains basic tweet data for all 5000+ of their tweets. The Twitter archive data has been filtered for tweets with ratings only, bringing the total record count to 2356.\n",
    "    \n",
    "_Twitter API_\n",
    "\n",
    "Additional data can be gathered by anyone using the Twitter API. This queried data is stored in a file called `tweet_json.txt`. This shows data on retweet count and favorite count.\n",
    "\n",
    "_Image Predictions_ \n",
    "\n",
    "Using a neural network, images classified dogs by breed. This is hosted on Udacity's servers and should be downloaded programmatically using the Requests library and the following URL: https://d17h27t6h515a5.cloudfront.net/topher/2017/August/599fd2ad_image-predictions/image-predictions.tsv"
   ]
  },
  {
   "cell_type": "code",
   "execution_count": null,
   "metadata": {},
   "outputs": [],
   "source": [
    "# import all libraries\n",
    "\n",
    "# Requests + file path\n",
    "import requests\n",
    "import os\n",
    "\n",
    "# Twitter API\n",
    "import tweepy\n",
    "\n",
    "# Data analysis\n",
    "import pandas as pd\n",
    "import numpy as np\n",
    "\n",
    "# Visualization\n",
    "import matplotlib.pyplot as plt\n",
    "import seaborn as sns\n",
    "%matplotlib inline"
   ]
  },
  {
   "cell_type": "markdown",
   "metadata": {},
   "source": [
    "<a id='gather'></a>\n",
    "## Gather\n",
    "\n",
    "### Twitter Archive\n",
    "\n",
    "Load the Twitter Archive from a flat .csv file."
   ]
  },
  {
   "cell_type": "code",
   "execution_count": 63,
   "metadata": {},
   "outputs": [
    {
     "data": {
      "text/html": [
       "<div>\n",
       "<style scoped>\n",
       "    .dataframe tbody tr th:only-of-type {\n",
       "        vertical-align: middle;\n",
       "    }\n",
       "\n",
       "    .dataframe tbody tr th {\n",
       "        vertical-align: top;\n",
       "    }\n",
       "\n",
       "    .dataframe thead th {\n",
       "        text-align: right;\n",
       "    }\n",
       "</style>\n",
       "<table border=\"1\" class=\"dataframe\">\n",
       "  <thead>\n",
       "    <tr style=\"text-align: right;\">\n",
       "      <th></th>\n",
       "      <th>tweet_id</th>\n",
       "      <th>in_reply_to_status_id</th>\n",
       "      <th>in_reply_to_user_id</th>\n",
       "      <th>timestamp</th>\n",
       "      <th>source</th>\n",
       "      <th>text</th>\n",
       "      <th>retweeted_status_id</th>\n",
       "      <th>retweeted_status_user_id</th>\n",
       "      <th>retweeted_status_timestamp</th>\n",
       "      <th>expanded_urls</th>\n",
       "      <th>rating_numerator</th>\n",
       "      <th>rating_denominator</th>\n",
       "      <th>name</th>\n",
       "      <th>doggo</th>\n",
       "      <th>floofer</th>\n",
       "      <th>pupper</th>\n",
       "      <th>puppo</th>\n",
       "    </tr>\n",
       "  </thead>\n",
       "  <tbody>\n",
       "    <tr>\n",
       "      <th>0</th>\n",
       "      <td>892420643555336193</td>\n",
       "      <td>NaN</td>\n",
       "      <td>NaN</td>\n",
       "      <td>2017-08-01 16:23:56 +0000</td>\n",
       "      <td>&lt;a href=\"http://twitter.com/download/iphone\" r...</td>\n",
       "      <td>This is Phineas. He's a mystical boy. Only eve...</td>\n",
       "      <td>NaN</td>\n",
       "      <td>NaN</td>\n",
       "      <td>NaN</td>\n",
       "      <td>https://twitter.com/dog_rates/status/892420643...</td>\n",
       "      <td>13</td>\n",
       "      <td>10</td>\n",
       "      <td>Phineas</td>\n",
       "      <td>None</td>\n",
       "      <td>None</td>\n",
       "      <td>None</td>\n",
       "      <td>None</td>\n",
       "    </tr>\n",
       "  </tbody>\n",
       "</table>\n",
       "</div>"
      ],
      "text/plain": [
       "             tweet_id  in_reply_to_status_id  in_reply_to_user_id  \\\n",
       "0  892420643555336193                    NaN                  NaN   \n",
       "\n",
       "                   timestamp  \\\n",
       "0  2017-08-01 16:23:56 +0000   \n",
       "\n",
       "                                              source  \\\n",
       "0  <a href=\"http://twitter.com/download/iphone\" r...   \n",
       "\n",
       "                                                text  retweeted_status_id  \\\n",
       "0  This is Phineas. He's a mystical boy. Only eve...                  NaN   \n",
       "\n",
       "   retweeted_status_user_id retweeted_status_timestamp  \\\n",
       "0                       NaN                        NaN   \n",
       "\n",
       "                                       expanded_urls  rating_numerator  \\\n",
       "0  https://twitter.com/dog_rates/status/892420643...                13   \n",
       "\n",
       "   rating_denominator     name doggo floofer pupper puppo  \n",
       "0                  10  Phineas  None    None   None  None  "
      ]
     },
     "execution_count": 63,
     "metadata": {},
     "output_type": "execute_result"
    }
   ],
   "source": [
    "# load the dataset Twitter Archive from a flat file\n",
    "twitter_archive_df = pd.read_csv('twitter-archive-enhanced.csv')\n",
    "\n",
    "twitter_archive_df.head(1)"
   ]
  },
  {
   "cell_type": "markdown",
   "metadata": {},
   "source": [
    "### Tweets via Twitter API\n",
    "Use Twitter's API to get each tweet's JSON data and store in `tweet_json.txt`. Each tweet's JSON data should be written to its own line. \n",
    "\n",
    "Twitter API uses OAuth 1a (application-user) authentication, which is handled by the tweepy.OAuthHandler class. In order to access Twitter's API, create a developer account on https://developer.twitter.com and register our client application to obtain a key and secret. Querying for all tweets will take 20-30 minutes.\n",
    "\n",
    "With `tweet_json.txt`, select the important fields and convert the data into a pandas dataframe."
   ]
  },
  {
   "cell_type": "code",
   "execution_count": 56,
   "metadata": {},
   "outputs": [],
   "source": [
    "# Fill in secret keys and tokens\n",
    "consumer_key =\n",
    "consumer_secret =\n",
    "access_token = \n",
    "access_token_secret ="
   ]
  },
  {
   "cell_type": "code",
   "execution_count": 264,
   "metadata": {},
   "outputs": [],
   "source": [
    "# OAuth process, using the keys and tokens\n",
    "auth = tweepy.OAuthHandler(consumer_key, consumer_secret)\n",
    "auth.set_access_token(access_token, access_token_secret)"
   ]
  },
  {
   "cell_type": "code",
   "execution_count": 203,
   "metadata": {},
   "outputs": [],
   "source": [
    "# Creation of the actual interface, using authentication\n",
    "# To limit traffic on the server, Twitter set a rate limit to 15 minutes\n",
    "api = tweepy.API(auth, parser=tweepy.parsers.JSONParser(), wait_on_rate_limit=True, wait_on_rate_limit_notify = True)"
   ]
  },
  {
   "cell_type": "code",
   "execution_count": 259,
   "metadata": {},
   "outputs": [
    {
     "name": "stderr",
     "output_type": "stream",
     "text": [
      "WARNING:tweepy.binder:Rate limit reached. Sleeping for: 704\n",
      "WARNING:tweepy.binder:Rate limit reached. Sleeping for: 715\n"
     ]
    }
   ],
   "source": [
    "# Get list of Tweet IDs from Twitter archive\n",
    "tweet_ids = twitter_archive_df['tweet_id']\n",
    "\n",
    "# Create empty list to store dictionaries\n",
    "tweets = []\n",
    "\n",
    "# Create empty list to store Tweet IDs that failed to query (some might have been deleted)\n",
    "failed = []\n",
    "\n",
    "for t_id in tweet_ids:\n",
    "    try:\n",
    "        tweet = api.get_status(t_id)\n",
    "        # Append to list of dictionaries\n",
    "        tweets.append(tweet)\n",
    "    except:\n",
    "        failed.append(t_id)"
   ]
  },
  {
   "cell_type": "code",
   "execution_count": 263,
   "metadata": {},
   "outputs": [
    {
     "name": "stdout",
     "output_type": "stream",
     "text": [
      "Failed to query:\n",
      "888202515573088257\n",
      "873697596434513921\n",
      "872668790621863937\n",
      "872261713294495745\n",
      "869988702071779329\n",
      "866816280283807744\n",
      "861769973181624320\n",
      "856602993587888130\n",
      "851953902622658560\n",
      "845459076796616705\n",
      "844704788403113984\n",
      "842892208864923648\n",
      "837366284874571778\n",
      "837012587749474308\n",
      "829374341691346946\n",
      "827228250799742977\n",
      "812747805718642688\n",
      "802247111496568832\n",
      "779123168116150273\n",
      "775096608509886464\n",
      "770743923962707968\n",
      "754011816964026368\n",
      "680055455951884288\n"
     ]
    }
   ],
   "source": [
    "print('Failed to query:')\n",
    "for i in failed:\n",
    "    print(i)"
   ]
  },
  {
   "cell_type": "code",
   "execution_count": 234,
   "metadata": {},
   "outputs": [],
   "source": [
    "# Write JSON format of each tweet in file, with each tweet in its own line\n",
    "with open(\"tweet_json.txt\", mode=\"w\") as file:\n",
    "    for t in tweets:\n",
    "        # json.dumps converts dictionary object into string (with double quotes)\n",
    "        file.write(json.dumps(t))\n",
    "        file.write('\\n')"
   ]
  },
  {
   "cell_type": "code",
   "execution_count": 235,
   "metadata": {},
   "outputs": [],
   "source": [
    "df_list = []\n",
    "# Read JSON file as dataframe\n",
    "with open('tweet_json.txt') as file:\n",
    "    for t in file:\n",
    "        # json.loads converts string (with double quotes) to dictionary object\n",
    "        tweet_status = json.loads(t)\n",
    "        df_list.append({\n",
    "            'id': int(tweet_status['id']),\n",
    "            'created_at': tweet_status['created_at'],\n",
    "            'favorite_count': int(tweet_status['favorite_count']),\n",
    "            'retweet_count': int(tweet_status['retweet_count'])\n",
    "        })"
   ]
  },
  {
   "cell_type": "code",
   "execution_count": 239,
   "metadata": {},
   "outputs": [
    {
     "name": "stdout",
     "output_type": "stream",
     "text": [
      "(2333, 4)\n"
     ]
    },
    {
     "data": {
      "text/html": [
       "<div>\n",
       "<style scoped>\n",
       "    .dataframe tbody tr th:only-of-type {\n",
       "        vertical-align: middle;\n",
       "    }\n",
       "\n",
       "    .dataframe tbody tr th {\n",
       "        vertical-align: top;\n",
       "    }\n",
       "\n",
       "    .dataframe thead th {\n",
       "        text-align: right;\n",
       "    }\n",
       "</style>\n",
       "<table border=\"1\" class=\"dataframe\">\n",
       "  <thead>\n",
       "    <tr style=\"text-align: right;\">\n",
       "      <th></th>\n",
       "      <th>id</th>\n",
       "      <th>created_at</th>\n",
       "      <th>favorite_count</th>\n",
       "      <th>retweet_count</th>\n",
       "    </tr>\n",
       "  </thead>\n",
       "  <tbody>\n",
       "    <tr>\n",
       "      <th>0</th>\n",
       "      <td>892420643555336193</td>\n",
       "      <td>Tue Aug 01 16:23:56 +0000 2017</td>\n",
       "      <td>37164</td>\n",
       "      <td>7950</td>\n",
       "    </tr>\n",
       "  </tbody>\n",
       "</table>\n",
       "</div>"
      ],
      "text/plain": [
       "                   id                      created_at  favorite_count  \\\n",
       "0  892420643555336193  Tue Aug 01 16:23:56 +0000 2017           37164   \n",
       "\n",
       "   retweet_count  \n",
       "0           7950  "
      ]
     },
     "execution_count": 239,
     "metadata": {},
     "output_type": "execute_result"
    }
   ],
   "source": [
    "tweets_df = pd.DataFrame(df_list, columns=['id','created_at','favorite_count','retweet_count'])\n",
    "print(tweets_df.shape)\n",
    "tweets_df.head(1)"
   ]
  },
  {
   "cell_type": "markdown",
   "metadata": {},
   "source": [
    "### Image Predictions\n",
    "Programatically download and read the image predictions hosted on Udacity's servers. They will be stored in `image-predictions.tsv`."
   ]
  },
  {
   "cell_type": "code",
   "execution_count": 240,
   "metadata": {},
   "outputs": [],
   "source": [
    "# Use requests library to obtain file\n",
    "url = \"https://d17h27t6h515a5.cloudfront.net/topher/2017/August/599fd2ad_image-predictions/image-predictions.tsv\"\n",
    "response = requests.get(url)"
   ]
  },
  {
   "cell_type": "code",
   "execution_count": null,
   "metadata": {},
   "outputs": [],
   "source": [
    "# Write the url content in .tsv file\n",
    "with open(\"image-preds.tsv\", mode='wb') as file:\n",
    "    file.write(response.content)\n"
   ]
  },
  {
   "cell_type": "code",
   "execution_count": 290,
   "metadata": {},
   "outputs": [
    {
     "name": "stdout",
     "output_type": "stream",
     "text": [
      "(2075, 12)\n"
     ]
    },
    {
     "data": {
      "text/html": [
       "<div>\n",
       "<style scoped>\n",
       "    .dataframe tbody tr th:only-of-type {\n",
       "        vertical-align: middle;\n",
       "    }\n",
       "\n",
       "    .dataframe tbody tr th {\n",
       "        vertical-align: top;\n",
       "    }\n",
       "\n",
       "    .dataframe thead th {\n",
       "        text-align: right;\n",
       "    }\n",
       "</style>\n",
       "<table border=\"1\" class=\"dataframe\">\n",
       "  <thead>\n",
       "    <tr style=\"text-align: right;\">\n",
       "      <th></th>\n",
       "      <th>tweet_id</th>\n",
       "      <th>jpg_url</th>\n",
       "      <th>img_num</th>\n",
       "      <th>p1</th>\n",
       "      <th>p1_conf</th>\n",
       "      <th>p1_dog</th>\n",
       "      <th>p2</th>\n",
       "      <th>p2_conf</th>\n",
       "      <th>p2_dog</th>\n",
       "      <th>p3</th>\n",
       "      <th>p3_conf</th>\n",
       "      <th>p3_dog</th>\n",
       "    </tr>\n",
       "  </thead>\n",
       "  <tbody>\n",
       "    <tr>\n",
       "      <th>0</th>\n",
       "      <td>666020888022790149</td>\n",
       "      <td>https://pbs.twimg.com/media/CT4udn0WwAA0aMy.jpg</td>\n",
       "      <td>1</td>\n",
       "      <td>Welsh_springer_spaniel</td>\n",
       "      <td>0.465074</td>\n",
       "      <td>True</td>\n",
       "      <td>collie</td>\n",
       "      <td>0.156665</td>\n",
       "      <td>True</td>\n",
       "      <td>Shetland_sheepdog</td>\n",
       "      <td>0.061428</td>\n",
       "      <td>True</td>\n",
       "    </tr>\n",
       "  </tbody>\n",
       "</table>\n",
       "</div>"
      ],
      "text/plain": [
       "             tweet_id                                          jpg_url  \\\n",
       "0  666020888022790149  https://pbs.twimg.com/media/CT4udn0WwAA0aMy.jpg   \n",
       "\n",
       "   img_num                      p1   p1_conf  p1_dog      p2   p2_conf  \\\n",
       "0        1  Welsh_springer_spaniel  0.465074    True  collie  0.156665   \n",
       "\n",
       "   p2_dog                 p3   p3_conf  p3_dog  \n",
       "0    True  Shetland_sheepdog  0.061428    True  "
      ]
     },
     "execution_count": 290,
     "metadata": {},
     "output_type": "execute_result"
    }
   ],
   "source": [
    "# Read .tsv file\n",
    "image_preds_df = pd.read_csv('image-preds.tsv', sep=\"\\t\")\n",
    "\n",
    "print(image_preds_df.shape)\n",
    "image_preds_df.head(1)"
   ]
  },
  {
   "cell_type": "markdown",
   "metadata": {},
   "source": [
    "As practice, download the images in a `image-preds` folder using the `jpg_url` in the dataframe.\n",
    "\n",
    "**Note:** There are over 2000 images and downloading takes at least 10 minutes. Run at your own risk! :)"
   ]
  },
  {
   "cell_type": "code",
   "execution_count": 245,
   "metadata": {},
   "outputs": [],
   "source": [
    "folder_name = 'image-preds'\n",
    "\n",
    "# Create folder\n",
    "if not os.path.exists(folder_name):\n",
    "    os.makedirs(folder_name)\n",
    "    \n",
    "# Download images\n",
    "for url in image_preds.jpg_url:\n",
    "    response = requests.get(url)\n",
    "    with open(os.path.join(folder_name, url.split('/')[-1]), mode='wb') as picture:\n",
    "        picture.write(response.content)"
   ]
  },
  {
   "cell_type": "markdown",
   "metadata": {},
   "source": [
    "<a id='assess'></a>\n",
    "## Assess\n",
    "\n",
    "Investigate each dataset to identify what needs to be cleaned.\n",
    "\n",
    "### Twitter Archive"
   ]
  },
  {
   "cell_type": "code",
   "execution_count": 253,
   "metadata": {},
   "outputs": [
    {
     "data": {
      "text/html": [
       "<div>\n",
       "<style scoped>\n",
       "    .dataframe tbody tr th:only-of-type {\n",
       "        vertical-align: middle;\n",
       "    }\n",
       "\n",
       "    .dataframe tbody tr th {\n",
       "        vertical-align: top;\n",
       "    }\n",
       "\n",
       "    .dataframe thead th {\n",
       "        text-align: right;\n",
       "    }\n",
       "</style>\n",
       "<table border=\"1\" class=\"dataframe\">\n",
       "  <thead>\n",
       "    <tr style=\"text-align: right;\">\n",
       "      <th></th>\n",
       "      <th>tweet_id</th>\n",
       "      <th>in_reply_to_status_id</th>\n",
       "      <th>in_reply_to_user_id</th>\n",
       "      <th>timestamp</th>\n",
       "      <th>source</th>\n",
       "      <th>text</th>\n",
       "      <th>retweeted_status_id</th>\n",
       "      <th>retweeted_status_user_id</th>\n",
       "      <th>retweeted_status_timestamp</th>\n",
       "      <th>expanded_urls</th>\n",
       "      <th>rating_numerator</th>\n",
       "      <th>rating_denominator</th>\n",
       "      <th>name</th>\n",
       "      <th>doggo</th>\n",
       "      <th>floofer</th>\n",
       "      <th>pupper</th>\n",
       "      <th>puppo</th>\n",
       "    </tr>\n",
       "  </thead>\n",
       "  <tbody>\n",
       "    <tr>\n",
       "      <th>0</th>\n",
       "      <td>892420643555336193</td>\n",
       "      <td>NaN</td>\n",
       "      <td>NaN</td>\n",
       "      <td>2017-08-01 16:23:56 +0000</td>\n",
       "      <td>&lt;a href=\"http://twitter.com/download/iphone\" r...</td>\n",
       "      <td>This is Phineas. He's a mystical boy. Only eve...</td>\n",
       "      <td>NaN</td>\n",
       "      <td>NaN</td>\n",
       "      <td>NaN</td>\n",
       "      <td>https://twitter.com/dog_rates/status/892420643...</td>\n",
       "      <td>13</td>\n",
       "      <td>10</td>\n",
       "      <td>Phineas</td>\n",
       "      <td>None</td>\n",
       "      <td>None</td>\n",
       "      <td>None</td>\n",
       "      <td>None</td>\n",
       "    </tr>\n",
       "    <tr>\n",
       "      <th>1</th>\n",
       "      <td>892177421306343426</td>\n",
       "      <td>NaN</td>\n",
       "      <td>NaN</td>\n",
       "      <td>2017-08-01 00:17:27 +0000</td>\n",
       "      <td>&lt;a href=\"http://twitter.com/download/iphone\" r...</td>\n",
       "      <td>This is Tilly. She's just checking pup on you....</td>\n",
       "      <td>NaN</td>\n",
       "      <td>NaN</td>\n",
       "      <td>NaN</td>\n",
       "      <td>https://twitter.com/dog_rates/status/892177421...</td>\n",
       "      <td>13</td>\n",
       "      <td>10</td>\n",
       "      <td>Tilly</td>\n",
       "      <td>None</td>\n",
       "      <td>None</td>\n",
       "      <td>None</td>\n",
       "      <td>None</td>\n",
       "    </tr>\n",
       "    <tr>\n",
       "      <th>2</th>\n",
       "      <td>891815181378084864</td>\n",
       "      <td>NaN</td>\n",
       "      <td>NaN</td>\n",
       "      <td>2017-07-31 00:18:03 +0000</td>\n",
       "      <td>&lt;a href=\"http://twitter.com/download/iphone\" r...</td>\n",
       "      <td>This is Archie. He is a rare Norwegian Pouncin...</td>\n",
       "      <td>NaN</td>\n",
       "      <td>NaN</td>\n",
       "      <td>NaN</td>\n",
       "      <td>https://twitter.com/dog_rates/status/891815181...</td>\n",
       "      <td>12</td>\n",
       "      <td>10</td>\n",
       "      <td>Archie</td>\n",
       "      <td>None</td>\n",
       "      <td>None</td>\n",
       "      <td>None</td>\n",
       "      <td>None</td>\n",
       "    </tr>\n",
       "    <tr>\n",
       "      <th>3</th>\n",
       "      <td>891689557279858688</td>\n",
       "      <td>NaN</td>\n",
       "      <td>NaN</td>\n",
       "      <td>2017-07-30 15:58:51 +0000</td>\n",
       "      <td>&lt;a href=\"http://twitter.com/download/iphone\" r...</td>\n",
       "      <td>This is Darla. She commenced a snooze mid meal...</td>\n",
       "      <td>NaN</td>\n",
       "      <td>NaN</td>\n",
       "      <td>NaN</td>\n",
       "      <td>https://twitter.com/dog_rates/status/891689557...</td>\n",
       "      <td>13</td>\n",
       "      <td>10</td>\n",
       "      <td>Darla</td>\n",
       "      <td>None</td>\n",
       "      <td>None</td>\n",
       "      <td>None</td>\n",
       "      <td>None</td>\n",
       "    </tr>\n",
       "    <tr>\n",
       "      <th>4</th>\n",
       "      <td>891327558926688256</td>\n",
       "      <td>NaN</td>\n",
       "      <td>NaN</td>\n",
       "      <td>2017-07-29 16:00:24 +0000</td>\n",
       "      <td>&lt;a href=\"http://twitter.com/download/iphone\" r...</td>\n",
       "      <td>This is Franklin. He would like you to stop ca...</td>\n",
       "      <td>NaN</td>\n",
       "      <td>NaN</td>\n",
       "      <td>NaN</td>\n",
       "      <td>https://twitter.com/dog_rates/status/891327558...</td>\n",
       "      <td>12</td>\n",
       "      <td>10</td>\n",
       "      <td>Franklin</td>\n",
       "      <td>None</td>\n",
       "      <td>None</td>\n",
       "      <td>None</td>\n",
       "      <td>None</td>\n",
       "    </tr>\n",
       "  </tbody>\n",
       "</table>\n",
       "</div>"
      ],
      "text/plain": [
       "             tweet_id  in_reply_to_status_id  in_reply_to_user_id  \\\n",
       "0  892420643555336193                    NaN                  NaN   \n",
       "1  892177421306343426                    NaN                  NaN   \n",
       "2  891815181378084864                    NaN                  NaN   \n",
       "3  891689557279858688                    NaN                  NaN   \n",
       "4  891327558926688256                    NaN                  NaN   \n",
       "\n",
       "                   timestamp  \\\n",
       "0  2017-08-01 16:23:56 +0000   \n",
       "1  2017-08-01 00:17:27 +0000   \n",
       "2  2017-07-31 00:18:03 +0000   \n",
       "3  2017-07-30 15:58:51 +0000   \n",
       "4  2017-07-29 16:00:24 +0000   \n",
       "\n",
       "                                              source  \\\n",
       "0  <a href=\"http://twitter.com/download/iphone\" r...   \n",
       "1  <a href=\"http://twitter.com/download/iphone\" r...   \n",
       "2  <a href=\"http://twitter.com/download/iphone\" r...   \n",
       "3  <a href=\"http://twitter.com/download/iphone\" r...   \n",
       "4  <a href=\"http://twitter.com/download/iphone\" r...   \n",
       "\n",
       "                                                text  retweeted_status_id  \\\n",
       "0  This is Phineas. He's a mystical boy. Only eve...                  NaN   \n",
       "1  This is Tilly. She's just checking pup on you....                  NaN   \n",
       "2  This is Archie. He is a rare Norwegian Pouncin...                  NaN   \n",
       "3  This is Darla. She commenced a snooze mid meal...                  NaN   \n",
       "4  This is Franklin. He would like you to stop ca...                  NaN   \n",
       "\n",
       "   retweeted_status_user_id retweeted_status_timestamp  \\\n",
       "0                       NaN                        NaN   \n",
       "1                       NaN                        NaN   \n",
       "2                       NaN                        NaN   \n",
       "3                       NaN                        NaN   \n",
       "4                       NaN                        NaN   \n",
       "\n",
       "                                       expanded_urls  rating_numerator  \\\n",
       "0  https://twitter.com/dog_rates/status/892420643...                13   \n",
       "1  https://twitter.com/dog_rates/status/892177421...                13   \n",
       "2  https://twitter.com/dog_rates/status/891815181...                12   \n",
       "3  https://twitter.com/dog_rates/status/891689557...                13   \n",
       "4  https://twitter.com/dog_rates/status/891327558...                12   \n",
       "\n",
       "   rating_denominator      name doggo floofer pupper puppo  \n",
       "0                  10   Phineas  None    None   None  None  \n",
       "1                  10     Tilly  None    None   None  None  \n",
       "2                  10    Archie  None    None   None  None  \n",
       "3                  10     Darla  None    None   None  None  \n",
       "4                  10  Franklin  None    None   None  None  "
      ]
     },
     "execution_count": 253,
     "metadata": {},
     "output_type": "execute_result"
    }
   ],
   "source": [
    "twitter_archive_df.head()"
   ]
  },
  {
   "cell_type": "code",
   "execution_count": 254,
   "metadata": {},
   "outputs": [
    {
     "name": "stdout",
     "output_type": "stream",
     "text": [
      "<class 'pandas.core.frame.DataFrame'>\n",
      "RangeIndex: 2356 entries, 0 to 2355\n",
      "Data columns (total 17 columns):\n",
      "tweet_id                      2356 non-null int64\n",
      "in_reply_to_status_id         78 non-null float64\n",
      "in_reply_to_user_id           78 non-null float64\n",
      "timestamp                     2356 non-null object\n",
      "source                        2356 non-null object\n",
      "text                          2356 non-null object\n",
      "retweeted_status_id           181 non-null float64\n",
      "retweeted_status_user_id      181 non-null float64\n",
      "retweeted_status_timestamp    181 non-null object\n",
      "expanded_urls                 2297 non-null object\n",
      "rating_numerator              2356 non-null int64\n",
      "rating_denominator            2356 non-null int64\n",
      "name                          2356 non-null object\n",
      "doggo                         2356 non-null object\n",
      "floofer                       2356 non-null object\n",
      "pupper                        2356 non-null object\n",
      "puppo                         2356 non-null object\n",
      "dtypes: float64(4), int64(3), object(10)\n",
      "memory usage: 313.0+ KB\n"
     ]
    }
   ],
   "source": [
    "twitter_archive_df.info()"
   ]
  },
  {
   "cell_type": "code",
   "execution_count": 280,
   "metadata": {},
   "outputs": [
    {
     "data": {
      "text/html": [
       "<div>\n",
       "<style scoped>\n",
       "    .dataframe tbody tr th:only-of-type {\n",
       "        vertical-align: middle;\n",
       "    }\n",
       "\n",
       "    .dataframe tbody tr th {\n",
       "        vertical-align: top;\n",
       "    }\n",
       "\n",
       "    .dataframe thead th {\n",
       "        text-align: right;\n",
       "    }\n",
       "</style>\n",
       "<table border=\"1\" class=\"dataframe\">\n",
       "  <thead>\n",
       "    <tr style=\"text-align: right;\">\n",
       "      <th></th>\n",
       "      <th>tweet_id</th>\n",
       "      <th>in_reply_to_status_id</th>\n",
       "      <th>in_reply_to_user_id</th>\n",
       "      <th>retweeted_status_id</th>\n",
       "      <th>retweeted_status_user_id</th>\n",
       "      <th>rating_numerator</th>\n",
       "      <th>rating_denominator</th>\n",
       "    </tr>\n",
       "  </thead>\n",
       "  <tbody>\n",
       "    <tr>\n",
       "      <th>count</th>\n",
       "      <td>2.356000e+03</td>\n",
       "      <td>7.800000e+01</td>\n",
       "      <td>7.800000e+01</td>\n",
       "      <td>1.810000e+02</td>\n",
       "      <td>1.810000e+02</td>\n",
       "      <td>2356.000000</td>\n",
       "      <td>2356.000000</td>\n",
       "    </tr>\n",
       "    <tr>\n",
       "      <th>mean</th>\n",
       "      <td>7.427716e+17</td>\n",
       "      <td>7.455079e+17</td>\n",
       "      <td>2.014171e+16</td>\n",
       "      <td>7.720400e+17</td>\n",
       "      <td>1.241698e+16</td>\n",
       "      <td>13.126486</td>\n",
       "      <td>10.455433</td>\n",
       "    </tr>\n",
       "    <tr>\n",
       "      <th>std</th>\n",
       "      <td>6.856705e+16</td>\n",
       "      <td>7.582492e+16</td>\n",
       "      <td>1.252797e+17</td>\n",
       "      <td>6.236928e+16</td>\n",
       "      <td>9.599254e+16</td>\n",
       "      <td>45.876648</td>\n",
       "      <td>6.745237</td>\n",
       "    </tr>\n",
       "    <tr>\n",
       "      <th>min</th>\n",
       "      <td>6.660209e+17</td>\n",
       "      <td>6.658147e+17</td>\n",
       "      <td>1.185634e+07</td>\n",
       "      <td>6.661041e+17</td>\n",
       "      <td>7.832140e+05</td>\n",
       "      <td>0.000000</td>\n",
       "      <td>0.000000</td>\n",
       "    </tr>\n",
       "    <tr>\n",
       "      <th>25%</th>\n",
       "      <td>6.783989e+17</td>\n",
       "      <td>6.757419e+17</td>\n",
       "      <td>3.086374e+08</td>\n",
       "      <td>7.186315e+17</td>\n",
       "      <td>4.196984e+09</td>\n",
       "      <td>10.000000</td>\n",
       "      <td>10.000000</td>\n",
       "    </tr>\n",
       "    <tr>\n",
       "      <th>50%</th>\n",
       "      <td>7.196279e+17</td>\n",
       "      <td>7.038708e+17</td>\n",
       "      <td>4.196984e+09</td>\n",
       "      <td>7.804657e+17</td>\n",
       "      <td>4.196984e+09</td>\n",
       "      <td>11.000000</td>\n",
       "      <td>10.000000</td>\n",
       "    </tr>\n",
       "    <tr>\n",
       "      <th>75%</th>\n",
       "      <td>7.993373e+17</td>\n",
       "      <td>8.257804e+17</td>\n",
       "      <td>4.196984e+09</td>\n",
       "      <td>8.203146e+17</td>\n",
       "      <td>4.196984e+09</td>\n",
       "      <td>12.000000</td>\n",
       "      <td>10.000000</td>\n",
       "    </tr>\n",
       "    <tr>\n",
       "      <th>max</th>\n",
       "      <td>8.924206e+17</td>\n",
       "      <td>8.862664e+17</td>\n",
       "      <td>8.405479e+17</td>\n",
       "      <td>8.874740e+17</td>\n",
       "      <td>7.874618e+17</td>\n",
       "      <td>1776.000000</td>\n",
       "      <td>170.000000</td>\n",
       "    </tr>\n",
       "  </tbody>\n",
       "</table>\n",
       "</div>"
      ],
      "text/plain": [
       "           tweet_id  in_reply_to_status_id  in_reply_to_user_id  \\\n",
       "count  2.356000e+03           7.800000e+01         7.800000e+01   \n",
       "mean   7.427716e+17           7.455079e+17         2.014171e+16   \n",
       "std    6.856705e+16           7.582492e+16         1.252797e+17   \n",
       "min    6.660209e+17           6.658147e+17         1.185634e+07   \n",
       "25%    6.783989e+17           6.757419e+17         3.086374e+08   \n",
       "50%    7.196279e+17           7.038708e+17         4.196984e+09   \n",
       "75%    7.993373e+17           8.257804e+17         4.196984e+09   \n",
       "max    8.924206e+17           8.862664e+17         8.405479e+17   \n",
       "\n",
       "       retweeted_status_id  retweeted_status_user_id  rating_numerator  \\\n",
       "count         1.810000e+02              1.810000e+02       2356.000000   \n",
       "mean          7.720400e+17              1.241698e+16         13.126486   \n",
       "std           6.236928e+16              9.599254e+16         45.876648   \n",
       "min           6.661041e+17              7.832140e+05          0.000000   \n",
       "25%           7.186315e+17              4.196984e+09         10.000000   \n",
       "50%           7.804657e+17              4.196984e+09         11.000000   \n",
       "75%           8.203146e+17              4.196984e+09         12.000000   \n",
       "max           8.874740e+17              7.874618e+17       1776.000000   \n",
       "\n",
       "       rating_denominator  \n",
       "count         2356.000000  \n",
       "mean            10.455433  \n",
       "std              6.745237  \n",
       "min              0.000000  \n",
       "25%             10.000000  \n",
       "50%             10.000000  \n",
       "75%             10.000000  \n",
       "max            170.000000  "
      ]
     },
     "execution_count": 280,
     "metadata": {},
     "output_type": "execute_result"
    }
   ],
   "source": [
    "twitter_archive_df.describe()"
   ]
  },
  {
   "cell_type": "code",
   "execution_count": 458,
   "metadata": {},
   "outputs": [
    {
     "data": {
      "text/plain": [
       "None           745\n",
       "a               55\n",
       "Charlie         12\n",
       "Lucy            11\n",
       "Oliver          11\n",
       "Cooper          11\n",
       "Lola            10\n",
       "Penny           10\n",
       "Tucker          10\n",
       "Winston          9\n",
       "Bo               9\n",
       "the              8\n",
       "Sadie            8\n",
       "Bailey           7\n",
       "an               7\n",
       "Daisy            7\n",
       "Buddy            7\n",
       "Toby             7\n",
       "Scout            6\n",
       "Milo             6\n",
       "Koda             6\n",
       "Leo              6\n",
       "Bella            6\n",
       "Oscar            6\n",
       "Rusty            6\n",
       "Jack             6\n",
       "Jax              6\n",
       "Stanley          6\n",
       "Dave             6\n",
       "Alfie            5\n",
       "              ... \n",
       "Hector           1\n",
       "Grizz            1\n",
       "Beckham          1\n",
       "Dylan            1\n",
       "Fillup           1\n",
       "Cupid            1\n",
       "Jaycob           1\n",
       "Kota             1\n",
       "Striker          1\n",
       "Superpup         1\n",
       "Pawnd            1\n",
       "Traviss          1\n",
       "Amélie           1\n",
       "Sprinkles        1\n",
       "Bodie            1\n",
       "Sage             1\n",
       "Jeffri           1\n",
       "Eevee            1\n",
       "Grizzie          1\n",
       "Shakespeare      1\n",
       "Mack             1\n",
       "Godi             1\n",
       "River            1\n",
       "Brutus           1\n",
       "Milky            1\n",
       "Howie            1\n",
       "Travis           1\n",
       "Trigger          1\n",
       "Joey             1\n",
       "Olaf             1\n",
       "Name: name, Length: 957, dtype: int64"
      ]
     },
     "execution_count": 458,
     "metadata": {},
     "output_type": "execute_result"
    }
   ],
   "source": [
    "twitter_archive_df.name.value_counts()"
   ]
  },
  {
   "cell_type": "markdown",
   "metadata": {},
   "source": [
    "`twitter_archive_df` has 2356 records and 17 columns.\n",
    "\n",
    "**Quality issues:**\n",
    "* `timestamp` does not need the \"+0000\" extension and should be converted from type `object` to `datetime`.\n",
    "* `rating_denominator` should all be 10 but there are some incorrect records (incorrect MAX value is 170). This leads to redoing the `rating_numerator` as well as some numbers look too high.\n",
    "* There are 59 missing `expanded_urls`.\n",
    "* `name` is listed incorrectly as \"None\" (should be null) or \"a\"/\"the\" (first letter should be upper case or value should be null).\n",
    "* `source` can leave out the HTML tag.\n",
    "* Drop `in_reply_to_user_id`, `in_reply_to_status_id`, `retweeted_status_id`, `retweeted_status_user_id`, and `retweeted_status_timestamp`.\n",
    "\n",
    "\n",
    "**Tidiness issues:**\n",
    "* `doggo`, `floofer`, `pupper`, and `puppo` are 4 separate columns but can be combined into 1 `dog_stage` column."
   ]
  },
  {
   "cell_type": "markdown",
   "metadata": {},
   "source": [
    "### Tweets from Twitter API"
   ]
  },
  {
   "cell_type": "code",
   "execution_count": 247,
   "metadata": {},
   "outputs": [
    {
     "data": {
      "text/html": [
       "<div>\n",
       "<style scoped>\n",
       "    .dataframe tbody tr th:only-of-type {\n",
       "        vertical-align: middle;\n",
       "    }\n",
       "\n",
       "    .dataframe tbody tr th {\n",
       "        vertical-align: top;\n",
       "    }\n",
       "\n",
       "    .dataframe thead th {\n",
       "        text-align: right;\n",
       "    }\n",
       "</style>\n",
       "<table border=\"1\" class=\"dataframe\">\n",
       "  <thead>\n",
       "    <tr style=\"text-align: right;\">\n",
       "      <th></th>\n",
       "      <th>id</th>\n",
       "      <th>created_at</th>\n",
       "      <th>favorite_count</th>\n",
       "      <th>retweet_count</th>\n",
       "    </tr>\n",
       "  </thead>\n",
       "  <tbody>\n",
       "    <tr>\n",
       "      <th>0</th>\n",
       "      <td>892420643555336193</td>\n",
       "      <td>Tue Aug 01 16:23:56 +0000 2017</td>\n",
       "      <td>37164</td>\n",
       "      <td>7950</td>\n",
       "    </tr>\n",
       "    <tr>\n",
       "      <th>1</th>\n",
       "      <td>892177421306343426</td>\n",
       "      <td>Tue Aug 01 00:17:27 +0000 2017</td>\n",
       "      <td>31970</td>\n",
       "      <td>5905</td>\n",
       "    </tr>\n",
       "    <tr>\n",
       "      <th>2</th>\n",
       "      <td>891815181378084864</td>\n",
       "      <td>Mon Jul 31 00:18:03 +0000 2017</td>\n",
       "      <td>24077</td>\n",
       "      <td>3904</td>\n",
       "    </tr>\n",
       "    <tr>\n",
       "      <th>3</th>\n",
       "      <td>891689557279858688</td>\n",
       "      <td>Sun Jul 30 15:58:51 +0000 2017</td>\n",
       "      <td>40486</td>\n",
       "      <td>8097</td>\n",
       "    </tr>\n",
       "    <tr>\n",
       "      <th>4</th>\n",
       "      <td>891327558926688256</td>\n",
       "      <td>Sat Jul 29 16:00:24 +0000 2017</td>\n",
       "      <td>38711</td>\n",
       "      <td>8787</td>\n",
       "    </tr>\n",
       "  </tbody>\n",
       "</table>\n",
       "</div>"
      ],
      "text/plain": [
       "                   id                      created_at  favorite_count  \\\n",
       "0  892420643555336193  Tue Aug 01 16:23:56 +0000 2017           37164   \n",
       "1  892177421306343426  Tue Aug 01 00:17:27 +0000 2017           31970   \n",
       "2  891815181378084864  Mon Jul 31 00:18:03 +0000 2017           24077   \n",
       "3  891689557279858688  Sun Jul 30 15:58:51 +0000 2017           40486   \n",
       "4  891327558926688256  Sat Jul 29 16:00:24 +0000 2017           38711   \n",
       "\n",
       "   retweet_count  \n",
       "0           7950  \n",
       "1           5905  \n",
       "2           3904  \n",
       "3           8097  \n",
       "4           8787  "
      ]
     },
     "execution_count": 247,
     "metadata": {},
     "output_type": "execute_result"
    }
   ],
   "source": [
    "tweets_df.head()"
   ]
  },
  {
   "cell_type": "code",
   "execution_count": 248,
   "metadata": {},
   "outputs": [
    {
     "name": "stdout",
     "output_type": "stream",
     "text": [
      "<class 'pandas.core.frame.DataFrame'>\n",
      "RangeIndex: 2333 entries, 0 to 2332\n",
      "Data columns (total 4 columns):\n",
      "id                2333 non-null int64\n",
      "created_at        2333 non-null object\n",
      "favorite_count    2333 non-null int64\n",
      "retweet_count     2333 non-null int64\n",
      "dtypes: int64(3), object(1)\n",
      "memory usage: 73.0+ KB\n"
     ]
    }
   ],
   "source": [
    "tweets_df.info()"
   ]
  },
  {
   "cell_type": "code",
   "execution_count": 249,
   "metadata": {},
   "outputs": [
    {
     "data": {
      "text/html": [
       "<div>\n",
       "<style scoped>\n",
       "    .dataframe tbody tr th:only-of-type {\n",
       "        vertical-align: middle;\n",
       "    }\n",
       "\n",
       "    .dataframe tbody tr th {\n",
       "        vertical-align: top;\n",
       "    }\n",
       "\n",
       "    .dataframe thead th {\n",
       "        text-align: right;\n",
       "    }\n",
       "</style>\n",
       "<table border=\"1\" class=\"dataframe\">\n",
       "  <thead>\n",
       "    <tr style=\"text-align: right;\">\n",
       "      <th></th>\n",
       "      <th>id</th>\n",
       "      <th>favorite_count</th>\n",
       "      <th>retweet_count</th>\n",
       "    </tr>\n",
       "  </thead>\n",
       "  <tbody>\n",
       "    <tr>\n",
       "      <th>count</th>\n",
       "      <td>2.333000e+03</td>\n",
       "      <td>2333.000000</td>\n",
       "      <td>2333.000000</td>\n",
       "    </tr>\n",
       "    <tr>\n",
       "      <th>mean</th>\n",
       "      <td>7.419279e+17</td>\n",
       "      <td>7749.004715</td>\n",
       "      <td>2795.993571</td>\n",
       "    </tr>\n",
       "    <tr>\n",
       "      <th>std</th>\n",
       "      <td>6.820607e+16</td>\n",
       "      <td>12028.652571</td>\n",
       "      <td>4732.438188</td>\n",
       "    </tr>\n",
       "    <tr>\n",
       "      <th>min</th>\n",
       "      <td>6.660209e+17</td>\n",
       "      <td>0.000000</td>\n",
       "      <td>1.000000</td>\n",
       "    </tr>\n",
       "    <tr>\n",
       "      <th>25%</th>\n",
       "      <td>6.782786e+17</td>\n",
       "      <td>1347.000000</td>\n",
       "      <td>561.000000</td>\n",
       "    </tr>\n",
       "    <tr>\n",
       "      <th>50%</th>\n",
       "      <td>7.184547e+17</td>\n",
       "      <td>3376.000000</td>\n",
       "      <td>1305.000000</td>\n",
       "    </tr>\n",
       "    <tr>\n",
       "      <th>75%</th>\n",
       "      <td>7.986654e+17</td>\n",
       "      <td>9510.000000</td>\n",
       "      <td>3255.000000</td>\n",
       "    </tr>\n",
       "    <tr>\n",
       "      <th>max</th>\n",
       "      <td>8.924206e+17</td>\n",
       "      <td>160624.000000</td>\n",
       "      <td>80354.000000</td>\n",
       "    </tr>\n",
       "  </tbody>\n",
       "</table>\n",
       "</div>"
      ],
      "text/plain": [
       "                 id  favorite_count  retweet_count\n",
       "count  2.333000e+03     2333.000000    2333.000000\n",
       "mean   7.419279e+17     7749.004715    2795.993571\n",
       "std    6.820607e+16    12028.652571    4732.438188\n",
       "min    6.660209e+17        0.000000       1.000000\n",
       "25%    6.782786e+17     1347.000000     561.000000\n",
       "50%    7.184547e+17     3376.000000    1305.000000\n",
       "75%    7.986654e+17     9510.000000    3255.000000\n",
       "max    8.924206e+17   160624.000000   80354.000000"
      ]
     },
     "execution_count": 249,
     "metadata": {},
     "output_type": "execute_result"
    }
   ],
   "source": [
    "tweets_df.describe()"
   ]
  },
  {
   "cell_type": "markdown",
   "metadata": {},
   "source": [
    "`tweets_df` has 2333 records and 4 columns. Overall, I think this dataset is fine and data cleaning would be minimal compared with the `twitter_archive_df` dataset. \n",
    "\n",
    "**Quality issues:**\n",
    "* `created_at` could be converted to `datetime` type, but since `twitter_archive_df` already contains `timestamp` I will ignore this column.\n",
    "\n",
    "**Tidiness issues:**\n",
    "* Append this to the `twitter_archive_df` dataframe."
   ]
  },
  {
   "cell_type": "markdown",
   "metadata": {},
   "source": [
    "### Image Predictions"
   ]
  },
  {
   "cell_type": "code",
   "execution_count": 291,
   "metadata": {},
   "outputs": [
    {
     "data": {
      "text/html": [
       "<div>\n",
       "<style scoped>\n",
       "    .dataframe tbody tr th:only-of-type {\n",
       "        vertical-align: middle;\n",
       "    }\n",
       "\n",
       "    .dataframe tbody tr th {\n",
       "        vertical-align: top;\n",
       "    }\n",
       "\n",
       "    .dataframe thead th {\n",
       "        text-align: right;\n",
       "    }\n",
       "</style>\n",
       "<table border=\"1\" class=\"dataframe\">\n",
       "  <thead>\n",
       "    <tr style=\"text-align: right;\">\n",
       "      <th></th>\n",
       "      <th>tweet_id</th>\n",
       "      <th>jpg_url</th>\n",
       "      <th>img_num</th>\n",
       "      <th>p1</th>\n",
       "      <th>p1_conf</th>\n",
       "      <th>p1_dog</th>\n",
       "      <th>p2</th>\n",
       "      <th>p2_conf</th>\n",
       "      <th>p2_dog</th>\n",
       "      <th>p3</th>\n",
       "      <th>p3_conf</th>\n",
       "      <th>p3_dog</th>\n",
       "    </tr>\n",
       "  </thead>\n",
       "  <tbody>\n",
       "    <tr>\n",
       "      <th>0</th>\n",
       "      <td>666020888022790149</td>\n",
       "      <td>https://pbs.twimg.com/media/CT4udn0WwAA0aMy.jpg</td>\n",
       "      <td>1</td>\n",
       "      <td>Welsh_springer_spaniel</td>\n",
       "      <td>0.465074</td>\n",
       "      <td>True</td>\n",
       "      <td>collie</td>\n",
       "      <td>0.156665</td>\n",
       "      <td>True</td>\n",
       "      <td>Shetland_sheepdog</td>\n",
       "      <td>0.061428</td>\n",
       "      <td>True</td>\n",
       "    </tr>\n",
       "    <tr>\n",
       "      <th>1</th>\n",
       "      <td>666029285002620928</td>\n",
       "      <td>https://pbs.twimg.com/media/CT42GRgUYAA5iDo.jpg</td>\n",
       "      <td>1</td>\n",
       "      <td>redbone</td>\n",
       "      <td>0.506826</td>\n",
       "      <td>True</td>\n",
       "      <td>miniature_pinscher</td>\n",
       "      <td>0.074192</td>\n",
       "      <td>True</td>\n",
       "      <td>Rhodesian_ridgeback</td>\n",
       "      <td>0.072010</td>\n",
       "      <td>True</td>\n",
       "    </tr>\n",
       "    <tr>\n",
       "      <th>2</th>\n",
       "      <td>666033412701032449</td>\n",
       "      <td>https://pbs.twimg.com/media/CT4521TWwAEvMyu.jpg</td>\n",
       "      <td>1</td>\n",
       "      <td>German_shepherd</td>\n",
       "      <td>0.596461</td>\n",
       "      <td>True</td>\n",
       "      <td>malinois</td>\n",
       "      <td>0.138584</td>\n",
       "      <td>True</td>\n",
       "      <td>bloodhound</td>\n",
       "      <td>0.116197</td>\n",
       "      <td>True</td>\n",
       "    </tr>\n",
       "    <tr>\n",
       "      <th>3</th>\n",
       "      <td>666044226329800704</td>\n",
       "      <td>https://pbs.twimg.com/media/CT5Dr8HUEAA-lEu.jpg</td>\n",
       "      <td>1</td>\n",
       "      <td>Rhodesian_ridgeback</td>\n",
       "      <td>0.408143</td>\n",
       "      <td>True</td>\n",
       "      <td>redbone</td>\n",
       "      <td>0.360687</td>\n",
       "      <td>True</td>\n",
       "      <td>miniature_pinscher</td>\n",
       "      <td>0.222752</td>\n",
       "      <td>True</td>\n",
       "    </tr>\n",
       "    <tr>\n",
       "      <th>4</th>\n",
       "      <td>666049248165822465</td>\n",
       "      <td>https://pbs.twimg.com/media/CT5IQmsXIAAKY4A.jpg</td>\n",
       "      <td>1</td>\n",
       "      <td>miniature_pinscher</td>\n",
       "      <td>0.560311</td>\n",
       "      <td>True</td>\n",
       "      <td>Rottweiler</td>\n",
       "      <td>0.243682</td>\n",
       "      <td>True</td>\n",
       "      <td>Doberman</td>\n",
       "      <td>0.154629</td>\n",
       "      <td>True</td>\n",
       "    </tr>\n",
       "  </tbody>\n",
       "</table>\n",
       "</div>"
      ],
      "text/plain": [
       "             tweet_id                                          jpg_url  \\\n",
       "0  666020888022790149  https://pbs.twimg.com/media/CT4udn0WwAA0aMy.jpg   \n",
       "1  666029285002620928  https://pbs.twimg.com/media/CT42GRgUYAA5iDo.jpg   \n",
       "2  666033412701032449  https://pbs.twimg.com/media/CT4521TWwAEvMyu.jpg   \n",
       "3  666044226329800704  https://pbs.twimg.com/media/CT5Dr8HUEAA-lEu.jpg   \n",
       "4  666049248165822465  https://pbs.twimg.com/media/CT5IQmsXIAAKY4A.jpg   \n",
       "\n",
       "   img_num                      p1   p1_conf  p1_dog                  p2  \\\n",
       "0        1  Welsh_springer_spaniel  0.465074    True              collie   \n",
       "1        1                 redbone  0.506826    True  miniature_pinscher   \n",
       "2        1         German_shepherd  0.596461    True            malinois   \n",
       "3        1     Rhodesian_ridgeback  0.408143    True             redbone   \n",
       "4        1      miniature_pinscher  0.560311    True          Rottweiler   \n",
       "\n",
       "    p2_conf  p2_dog                   p3   p3_conf  p3_dog  \n",
       "0  0.156665    True    Shetland_sheepdog  0.061428    True  \n",
       "1  0.074192    True  Rhodesian_ridgeback  0.072010    True  \n",
       "2  0.138584    True           bloodhound  0.116197    True  \n",
       "3  0.360687    True   miniature_pinscher  0.222752    True  \n",
       "4  0.243682    True             Doberman  0.154629    True  "
      ]
     },
     "execution_count": 291,
     "metadata": {},
     "output_type": "execute_result"
    }
   ],
   "source": [
    "image_preds_df.head()"
   ]
  },
  {
   "cell_type": "code",
   "execution_count": 292,
   "metadata": {},
   "outputs": [
    {
     "name": "stdout",
     "output_type": "stream",
     "text": [
      "<class 'pandas.core.frame.DataFrame'>\n",
      "RangeIndex: 2075 entries, 0 to 2074\n",
      "Data columns (total 12 columns):\n",
      "tweet_id    2075 non-null int64\n",
      "jpg_url     2075 non-null object\n",
      "img_num     2075 non-null int64\n",
      "p1          2075 non-null object\n",
      "p1_conf     2075 non-null float64\n",
      "p1_dog      2075 non-null bool\n",
      "p2          2075 non-null object\n",
      "p2_conf     2075 non-null float64\n",
      "p2_dog      2075 non-null bool\n",
      "p3          2075 non-null object\n",
      "p3_conf     2075 non-null float64\n",
      "p3_dog      2075 non-null bool\n",
      "dtypes: bool(3), float64(3), int64(2), object(4)\n",
      "memory usage: 152.1+ KB\n"
     ]
    }
   ],
   "source": [
    "image_preds_df.info()"
   ]
  },
  {
   "cell_type": "code",
   "execution_count": 293,
   "metadata": {},
   "outputs": [
    {
     "data": {
      "text/html": [
       "<div>\n",
       "<style scoped>\n",
       "    .dataframe tbody tr th:only-of-type {\n",
       "        vertical-align: middle;\n",
       "    }\n",
       "\n",
       "    .dataframe tbody tr th {\n",
       "        vertical-align: top;\n",
       "    }\n",
       "\n",
       "    .dataframe thead th {\n",
       "        text-align: right;\n",
       "    }\n",
       "</style>\n",
       "<table border=\"1\" class=\"dataframe\">\n",
       "  <thead>\n",
       "    <tr style=\"text-align: right;\">\n",
       "      <th></th>\n",
       "      <th>tweet_id</th>\n",
       "      <th>img_num</th>\n",
       "      <th>p1_conf</th>\n",
       "      <th>p2_conf</th>\n",
       "      <th>p3_conf</th>\n",
       "    </tr>\n",
       "  </thead>\n",
       "  <tbody>\n",
       "    <tr>\n",
       "      <th>count</th>\n",
       "      <td>2.075000e+03</td>\n",
       "      <td>2075.000000</td>\n",
       "      <td>2075.000000</td>\n",
       "      <td>2.075000e+03</td>\n",
       "      <td>2.075000e+03</td>\n",
       "    </tr>\n",
       "    <tr>\n",
       "      <th>mean</th>\n",
       "      <td>7.384514e+17</td>\n",
       "      <td>1.203855</td>\n",
       "      <td>0.594548</td>\n",
       "      <td>1.345886e-01</td>\n",
       "      <td>6.032417e-02</td>\n",
       "    </tr>\n",
       "    <tr>\n",
       "      <th>std</th>\n",
       "      <td>6.785203e+16</td>\n",
       "      <td>0.561875</td>\n",
       "      <td>0.271174</td>\n",
       "      <td>1.006657e-01</td>\n",
       "      <td>5.090593e-02</td>\n",
       "    </tr>\n",
       "    <tr>\n",
       "      <th>min</th>\n",
       "      <td>6.660209e+17</td>\n",
       "      <td>1.000000</td>\n",
       "      <td>0.044333</td>\n",
       "      <td>1.011300e-08</td>\n",
       "      <td>1.740170e-10</td>\n",
       "    </tr>\n",
       "    <tr>\n",
       "      <th>25%</th>\n",
       "      <td>6.764835e+17</td>\n",
       "      <td>1.000000</td>\n",
       "      <td>0.364412</td>\n",
       "      <td>5.388625e-02</td>\n",
       "      <td>1.622240e-02</td>\n",
       "    </tr>\n",
       "    <tr>\n",
       "      <th>50%</th>\n",
       "      <td>7.119988e+17</td>\n",
       "      <td>1.000000</td>\n",
       "      <td>0.588230</td>\n",
       "      <td>1.181810e-01</td>\n",
       "      <td>4.944380e-02</td>\n",
       "    </tr>\n",
       "    <tr>\n",
       "      <th>75%</th>\n",
       "      <td>7.932034e+17</td>\n",
       "      <td>1.000000</td>\n",
       "      <td>0.843855</td>\n",
       "      <td>1.955655e-01</td>\n",
       "      <td>9.180755e-02</td>\n",
       "    </tr>\n",
       "    <tr>\n",
       "      <th>max</th>\n",
       "      <td>8.924206e+17</td>\n",
       "      <td>4.000000</td>\n",
       "      <td>1.000000</td>\n",
       "      <td>4.880140e-01</td>\n",
       "      <td>2.734190e-01</td>\n",
       "    </tr>\n",
       "  </tbody>\n",
       "</table>\n",
       "</div>"
      ],
      "text/plain": [
       "           tweet_id      img_num      p1_conf       p2_conf       p3_conf\n",
       "count  2.075000e+03  2075.000000  2075.000000  2.075000e+03  2.075000e+03\n",
       "mean   7.384514e+17     1.203855     0.594548  1.345886e-01  6.032417e-02\n",
       "std    6.785203e+16     0.561875     0.271174  1.006657e-01  5.090593e-02\n",
       "min    6.660209e+17     1.000000     0.044333  1.011300e-08  1.740170e-10\n",
       "25%    6.764835e+17     1.000000     0.364412  5.388625e-02  1.622240e-02\n",
       "50%    7.119988e+17     1.000000     0.588230  1.181810e-01  4.944380e-02\n",
       "75%    7.932034e+17     1.000000     0.843855  1.955655e-01  9.180755e-02\n",
       "max    8.924206e+17     4.000000     1.000000  4.880140e-01  2.734190e-01"
      ]
     },
     "execution_count": 293,
     "metadata": {},
     "output_type": "execute_result"
    }
   ],
   "source": [
    "image_preds_df.describe()"
   ]
  },
  {
   "cell_type": "markdown",
   "metadata": {},
   "source": [
    "`image_preds_df` has 2075 records and 12 columns.\n",
    "\n",
    "**Quality issues:**\n",
    "* Dogs names in `p1`, `p2`, and `p3` have inconsistent cases. They should all be lowercase. \n",
    "* Some tweets are missing from `twitter_archive_df`. Drop records that lack images.\n",
    "\n",
    "**Tidiness issues:**\n",
    "* Although the structure seems logical, I can just use `p1` (the best prediction of dog breed) and drop the `'2` and `'3` columns.\n",
    "* Append this to the `twitter_archive_df` dataframe."
   ]
  },
  {
   "cell_type": "markdown",
   "metadata": {},
   "source": [
    "### Conclusion for Assessing Data\n",
    "\n",
    "**Identified quality issues:**\n",
    "\n",
    "*twitter_archive_df*\n",
    "* Drop `in_reply_to_user_id`, `in_reply_to_status_id`, `retweeted_status_id`, `retweeted_status_user_id`, and `retweeted_status_timestamp`.\n",
    "* `timestamp` does not need the \"+0000\" extension and should be converted from type `object` to `datetime`.\n",
    "* `rating_numerator` looks suspicious (need to cast as float instead of int).\n",
    "* `rating_denominator` should all be 10 but there are some incorrect records (incorrect MAX value is 170).\n",
    "* `name` is listed incorrectly as \"None\" (should be null) or \"a\"/\"the\" (first letter should be upper case or value should be null).\n",
    "* `source` can leave out the HTML tag.\n",
    "\n",
    "*image_preds_df*\n",
    "* Dogs names in `p1`, `p2`, and `p3` in `image_preds_df` have inconsistent cases. They should all be lowercase. \n",
    "* Drop unneccessary columns.\n",
    "    \n",
    "**Identified tidiness issues:**\n",
    "* Combine all image predictions `p1`, `p2`, and `p3` into one prediction column for dog breeds. \n",
    "* Combine `doggo`, `floofer`, `pupper`, and `puppo` in `twitter_archive_df` from 4 columns into 1 `dog_stage` column.\n",
    "* Combine all 3 dataframes into 1 dataframe with a unique identifier as `tweet_id`.\n",
    "* Drop records that lack images.\n",
    "\n",
    "<a id=\"clean\"></a>\n",
    "## Clean"
   ]
  },
  {
   "cell_type": "code",
   "execution_count": 298,
   "metadata": {},
   "outputs": [],
   "source": [
    "# Create copies of the original 3 datasets for reference\n",
    "twitter_archive_clean_df = twitter_archive_df.copy()\n",
    "image_preds_clean_df = image_preds_df.copy()\n",
    "tweets_clean_df = tweets_df.copy() \n",
    "\n",
    "# Save these clean copies as .csv\n",
    "twitter_archive_clean_df.to_csv('twitter_archive_clean_df.csv',encoding='utf-8',index=False)\n",
    "image_preds_clean_df.to_csv('image_preds_clean_df.csv',encoding='utf-8',index=False)\n",
    "tweets_clean_df.to_csv('tweets_clean_df.csv',encoding='utf-8',index=False)"
   ]
  },
  {
   "cell_type": "code",
   "execution_count": 630,
   "metadata": {},
   "outputs": [],
   "source": [
    "# Load clean files (as a checkpoint)\n",
    "twitter_archive_clean_df = pd.read_csv('twitter_archive_clean_df.csv')\n",
    "image_preds_clean_df = pd.read_csv('image_preds_clean_df.csv')\n",
    "tweets_clean_df = pd.read_csv('tweets_clean_df.csv')"
   ]
  },
  {
   "cell_type": "markdown",
   "metadata": {},
   "source": [
    "**Quality 1:** Drop `in_reply_to_user_id`, `in_reply_to_status_id`, `retweeted_status_id`, `retweeted_status_user_id`, and `retweeted_status_timestamp` from `twitter_archive_clean_df`."
   ]
  },
  {
   "cell_type": "code",
   "execution_count": 631,
   "metadata": {},
   "outputs": [],
   "source": [
    "# Drop columns\n",
    "col = ['in_reply_to_status_id', 'in_reply_to_user_id', 'retweeted_status_id', 'retweeted_status_user_id', 'retweeted_status_timestamp']\n",
    "twitter_archive_clean_df.drop(columns = col, inplace=True)"
   ]
  },
  {
   "cell_type": "code",
   "execution_count": 632,
   "metadata": {},
   "outputs": [
    {
     "data": {
      "text/plain": [
       "Index(['tweet_id', 'timestamp', 'source', 'text', 'expanded_urls',\n",
       "       'rating_numerator', 'rating_denominator', 'name', 'doggo', 'floofer',\n",
       "       'pupper', 'puppo'],\n",
       "      dtype='object')"
      ]
     },
     "execution_count": 632,
     "metadata": {},
     "output_type": "execute_result"
    }
   ],
   "source": [
    "# Test column drop was successful\n",
    "twitter_archive_clean_df.columns"
   ]
  },
  {
   "cell_type": "markdown",
   "metadata": {},
   "source": [
    "**Quality 2:** Convert `timestamp` in `twitter_archive_clean_df` to datetime type. Create a `date` and `time` column."
   ]
  },
  {
   "cell_type": "code",
   "execution_count": 633,
   "metadata": {},
   "outputs": [],
   "source": [
    "# import libary to format datetime\n",
    "from datetime import datetime"
   ]
  },
  {
   "cell_type": "code",
   "execution_count": 634,
   "metadata": {},
   "outputs": [],
   "source": [
    "# Convert from string to datetime\n",
    "twitter_archive_clean_df.timestamp = pd.to_datetime(twitter_archive_clean_df.timestamp)\n",
    "\n",
    "# Create date and time columns\n",
    "twitter_archive_clean_df['date'] = twitter_archive_clean_df.timestamp.apply(lambda x:datetime.strftime(x,'%Y-%m-%d'))\n",
    "twitter_archive_clean_df['time'] = twitter_archive_clean_df.timestamp.apply(lambda x:datetime.strftime(x,'%H:%M:%S'))"
   ]
  },
  {
   "cell_type": "code",
   "execution_count": 635,
   "metadata": {},
   "outputs": [
    {
     "name": "stdout",
     "output_type": "stream",
     "text": [
      "<class 'pandas.core.frame.DataFrame'>\n",
      "RangeIndex: 2356 entries, 0 to 2355\n",
      "Data columns (total 14 columns):\n",
      "tweet_id              2356 non-null int64\n",
      "timestamp             2356 non-null datetime64[ns, UTC]\n",
      "source                2356 non-null object\n",
      "text                  2356 non-null object\n",
      "expanded_urls         2297 non-null object\n",
      "rating_numerator      2356 non-null int64\n",
      "rating_denominator    2356 non-null int64\n",
      "name                  2356 non-null object\n",
      "doggo                 2356 non-null object\n",
      "floofer               2356 non-null object\n",
      "pupper                2356 non-null object\n",
      "puppo                 2356 non-null object\n",
      "date                  2356 non-null object\n",
      "time                  2356 non-null object\n",
      "dtypes: datetime64[ns, UTC](1), int64(3), object(10)\n",
      "memory usage: 257.8+ KB\n"
     ]
    }
   ],
   "source": [
    "# Test if converting timestamp type and creating columns were successful\n",
    "twitter_archive_clean_df.info()"
   ]
  },
  {
   "cell_type": "code",
   "execution_count": 636,
   "metadata": {},
   "outputs": [
    {
     "data": {
      "text/html": [
       "<div>\n",
       "<style scoped>\n",
       "    .dataframe tbody tr th:only-of-type {\n",
       "        vertical-align: middle;\n",
       "    }\n",
       "\n",
       "    .dataframe tbody tr th {\n",
       "        vertical-align: top;\n",
       "    }\n",
       "\n",
       "    .dataframe thead th {\n",
       "        text-align: right;\n",
       "    }\n",
       "</style>\n",
       "<table border=\"1\" class=\"dataframe\">\n",
       "  <thead>\n",
       "    <tr style=\"text-align: right;\">\n",
       "      <th></th>\n",
       "      <th>tweet_id</th>\n",
       "      <th>timestamp</th>\n",
       "      <th>source</th>\n",
       "      <th>text</th>\n",
       "      <th>expanded_urls</th>\n",
       "      <th>rating_numerator</th>\n",
       "      <th>rating_denominator</th>\n",
       "      <th>name</th>\n",
       "      <th>doggo</th>\n",
       "      <th>floofer</th>\n",
       "      <th>pupper</th>\n",
       "      <th>puppo</th>\n",
       "      <th>date</th>\n",
       "      <th>time</th>\n",
       "    </tr>\n",
       "  </thead>\n",
       "  <tbody>\n",
       "    <tr>\n",
       "      <th>0</th>\n",
       "      <td>892420643555336193</td>\n",
       "      <td>2017-08-01 16:23:56+00:00</td>\n",
       "      <td>&lt;a href=\"http://twitter.com/download/iphone\" r...</td>\n",
       "      <td>This is Phineas. He's a mystical boy. Only eve...</td>\n",
       "      <td>https://twitter.com/dog_rates/status/892420643...</td>\n",
       "      <td>13</td>\n",
       "      <td>10</td>\n",
       "      <td>Phineas</td>\n",
       "      <td>None</td>\n",
       "      <td>None</td>\n",
       "      <td>None</td>\n",
       "      <td>None</td>\n",
       "      <td>2017-08-01</td>\n",
       "      <td>16:23:56</td>\n",
       "    </tr>\n",
       "    <tr>\n",
       "      <th>1</th>\n",
       "      <td>892177421306343426</td>\n",
       "      <td>2017-08-01 00:17:27+00:00</td>\n",
       "      <td>&lt;a href=\"http://twitter.com/download/iphone\" r...</td>\n",
       "      <td>This is Tilly. She's just checking pup on you....</td>\n",
       "      <td>https://twitter.com/dog_rates/status/892177421...</td>\n",
       "      <td>13</td>\n",
       "      <td>10</td>\n",
       "      <td>Tilly</td>\n",
       "      <td>None</td>\n",
       "      <td>None</td>\n",
       "      <td>None</td>\n",
       "      <td>None</td>\n",
       "      <td>2017-08-01</td>\n",
       "      <td>00:17:27</td>\n",
       "    </tr>\n",
       "    <tr>\n",
       "      <th>2</th>\n",
       "      <td>891815181378084864</td>\n",
       "      <td>2017-07-31 00:18:03+00:00</td>\n",
       "      <td>&lt;a href=\"http://twitter.com/download/iphone\" r...</td>\n",
       "      <td>This is Archie. He is a rare Norwegian Pouncin...</td>\n",
       "      <td>https://twitter.com/dog_rates/status/891815181...</td>\n",
       "      <td>12</td>\n",
       "      <td>10</td>\n",
       "      <td>Archie</td>\n",
       "      <td>None</td>\n",
       "      <td>None</td>\n",
       "      <td>None</td>\n",
       "      <td>None</td>\n",
       "      <td>2017-07-31</td>\n",
       "      <td>00:18:03</td>\n",
       "    </tr>\n",
       "    <tr>\n",
       "      <th>3</th>\n",
       "      <td>891689557279858688</td>\n",
       "      <td>2017-07-30 15:58:51+00:00</td>\n",
       "      <td>&lt;a href=\"http://twitter.com/download/iphone\" r...</td>\n",
       "      <td>This is Darla. She commenced a snooze mid meal...</td>\n",
       "      <td>https://twitter.com/dog_rates/status/891689557...</td>\n",
       "      <td>13</td>\n",
       "      <td>10</td>\n",
       "      <td>Darla</td>\n",
       "      <td>None</td>\n",
       "      <td>None</td>\n",
       "      <td>None</td>\n",
       "      <td>None</td>\n",
       "      <td>2017-07-30</td>\n",
       "      <td>15:58:51</td>\n",
       "    </tr>\n",
       "    <tr>\n",
       "      <th>4</th>\n",
       "      <td>891327558926688256</td>\n",
       "      <td>2017-07-29 16:00:24+00:00</td>\n",
       "      <td>&lt;a href=\"http://twitter.com/download/iphone\" r...</td>\n",
       "      <td>This is Franklin. He would like you to stop ca...</td>\n",
       "      <td>https://twitter.com/dog_rates/status/891327558...</td>\n",
       "      <td>12</td>\n",
       "      <td>10</td>\n",
       "      <td>Franklin</td>\n",
       "      <td>None</td>\n",
       "      <td>None</td>\n",
       "      <td>None</td>\n",
       "      <td>None</td>\n",
       "      <td>2017-07-29</td>\n",
       "      <td>16:00:24</td>\n",
       "    </tr>\n",
       "  </tbody>\n",
       "</table>\n",
       "</div>"
      ],
      "text/plain": [
       "             tweet_id                 timestamp  \\\n",
       "0  892420643555336193 2017-08-01 16:23:56+00:00   \n",
       "1  892177421306343426 2017-08-01 00:17:27+00:00   \n",
       "2  891815181378084864 2017-07-31 00:18:03+00:00   \n",
       "3  891689557279858688 2017-07-30 15:58:51+00:00   \n",
       "4  891327558926688256 2017-07-29 16:00:24+00:00   \n",
       "\n",
       "                                              source  \\\n",
       "0  <a href=\"http://twitter.com/download/iphone\" r...   \n",
       "1  <a href=\"http://twitter.com/download/iphone\" r...   \n",
       "2  <a href=\"http://twitter.com/download/iphone\" r...   \n",
       "3  <a href=\"http://twitter.com/download/iphone\" r...   \n",
       "4  <a href=\"http://twitter.com/download/iphone\" r...   \n",
       "\n",
       "                                                text  \\\n",
       "0  This is Phineas. He's a mystical boy. Only eve...   \n",
       "1  This is Tilly. She's just checking pup on you....   \n",
       "2  This is Archie. He is a rare Norwegian Pouncin...   \n",
       "3  This is Darla. She commenced a snooze mid meal...   \n",
       "4  This is Franklin. He would like you to stop ca...   \n",
       "\n",
       "                                       expanded_urls  rating_numerator  \\\n",
       "0  https://twitter.com/dog_rates/status/892420643...                13   \n",
       "1  https://twitter.com/dog_rates/status/892177421...                13   \n",
       "2  https://twitter.com/dog_rates/status/891815181...                12   \n",
       "3  https://twitter.com/dog_rates/status/891689557...                13   \n",
       "4  https://twitter.com/dog_rates/status/891327558...                12   \n",
       "\n",
       "   rating_denominator      name doggo floofer pupper puppo        date  \\\n",
       "0                  10   Phineas  None    None   None  None  2017-08-01   \n",
       "1                  10     Tilly  None    None   None  None  2017-08-01   \n",
       "2                  10    Archie  None    None   None  None  2017-07-31   \n",
       "3                  10     Darla  None    None   None  None  2017-07-30   \n",
       "4                  10  Franklin  None    None   None  None  2017-07-29   \n",
       "\n",
       "       time  \n",
       "0  16:23:56  \n",
       "1  00:17:27  \n",
       "2  00:18:03  \n",
       "3  15:58:51  \n",
       "4  16:00:24  "
      ]
     },
     "execution_count": 636,
     "metadata": {},
     "output_type": "execute_result"
    }
   ],
   "source": [
    "# Check if creating date and time fields were successful\n",
    "twitter_archive_clean_df.head()"
   ]
  },
  {
   "cell_type": "markdown",
   "metadata": {},
   "source": [
    "**Quality 3:** Create `numerator` that would fix values in `rating_numerator` in `twitter_archive_clean_df` by parsing the rating from `text` and parsing the numerator."
   ]
  },
  {
   "cell_type": "code",
   "execution_count": 637,
   "metadata": {},
   "outputs": [],
   "source": [
    "twitter_archive_clean_df[['numerator','denominator']] = twitter_archive_clean_df.text.str.extract(r'(\\d+\\.*\\d*)/(\\d+\\.*\\d*)')"
   ]
  },
  {
   "cell_type": "code",
   "execution_count": 638,
   "metadata": {},
   "outputs": [
    {
     "data": {
      "text/plain": [
       "12       558\n",
       "11       464\n",
       "10       461\n",
       "13       351\n",
       "9        158\n",
       "8        102\n",
       "14        54\n",
       "7         54\n",
       "5         35\n",
       "6         32\n",
       "3         19\n",
       "4         17\n",
       "2          9\n",
       "1          9\n",
       "9.75       2\n",
       "15         2\n",
       "0          2\n",
       "420        2\n",
       "143        1\n",
       "182        1\n",
       "11.26      1\n",
       "45         1\n",
       "007        1\n",
       "20         1\n",
       "44         1\n",
       "24         1\n",
       "960        1\n",
       "666        1\n",
       "11.27      1\n",
       "204        1\n",
       "9.5        1\n",
       "88         1\n",
       "121        1\n",
       "13.5       1\n",
       "80         1\n",
       "144        1\n",
       "50         1\n",
       "1776       1\n",
       "165        1\n",
       "99         1\n",
       "60         1\n",
       "17         1\n",
       "84         1\n",
       "Name: numerator, dtype: int64"
      ]
     },
     "execution_count": 638,
     "metadata": {},
     "output_type": "execute_result"
    }
   ],
   "source": [
    "# Check that numerator is correct\n",
    "twitter_archive_clean_df.numerator.value_counts()"
   ]
  },
  {
   "cell_type": "code",
   "execution_count": 639,
   "metadata": {},
   "outputs": [
    {
     "name": "stdout",
     "output_type": "stream",
     "text": [
      "RT @dog_rates: This is Logan, the Chow who lived. He solemnly swears he's up to lots of good. H*ckin magical af 9.75/10 https://t.co/yBO5wu…\n"
     ]
    },
    {
     "data": {
      "text/plain": [
       "rating_numerator      75\n",
       "numerator           9.75\n",
       "Name: 340, dtype: object"
      ]
     },
     "execution_count": 639,
     "metadata": {},
     "output_type": "execute_result"
    }
   ],
   "source": [
    "# There are some numerator floats. Verify that it's correct from the text.\n",
    "print(twitter_archive_clean_df.query('numerator == \"9.75\"').iloc[0].text)\n",
    "twitter_archive_clean_df.query('numerator == \"9.75\"').iloc[0][['rating_numerator','numerator']]"
   ]
  },
  {
   "cell_type": "markdown",
   "metadata": {},
   "source": [
    "**Quality 4:** Fix values in `rating_denominator` in `twitter_archive_clean_df`. Check if they should all be 10."
   ]
  },
  {
   "cell_type": "code",
   "execution_count": 640,
   "metadata": {},
   "outputs": [
    {
     "data": {
      "text/plain": [
       "10      2310\n",
       "10.       23\n",
       "11         3\n",
       "50         2\n",
       "20         2\n",
       "80         2\n",
       "150        1\n",
       "40         1\n",
       "2          1\n",
       "120        1\n",
       "110        1\n",
       "130.       1\n",
       "15         1\n",
       "16         1\n",
       "00         1\n",
       "90         1\n",
       "70         1\n",
       "170        1\n",
       "7          1\n",
       "50.        1\n",
       "Name: denominator, dtype: int64"
      ]
     },
     "execution_count": 640,
     "metadata": {},
     "output_type": "execute_result"
    }
   ],
   "source": [
    "# Check the values from the parsed denominator\n",
    "twitter_archive_clean_df.denominator.value_counts()"
   ]
  },
  {
   "cell_type": "code",
   "execution_count": 641,
   "metadata": {},
   "outputs": [
    {
     "name": "stdout",
     "output_type": "stream",
     "text": [
      "Say hello to this unbelievably well behaved squad of doggos. 204/170 would try to pet all at once https://t.co/yGQI3He3xv\n"
     ]
    },
    {
     "data": {
      "text/plain": [
       "'https://twitter.com/dog_rates/status/731156023742988288/photo/1'"
      ]
     },
     "execution_count": 641,
     "metadata": {},
     "output_type": "execute_result"
    }
   ],
   "source": [
    "# Investigate the record with 170 as denominator\n",
    "print(twitter_archive_clean_df.query('denominator == \"170\"').iloc[0].text)\n",
    "twitter_archive_clean_df.query('denominator == \"170\"').iloc[0].expanded_urls"
   ]
  },
  {
   "cell_type": "markdown",
   "metadata": {},
   "source": [
    "With the example above, I believe that not all tweets follow the \"10 as denominator\" rule. Rather than replacing all `rating_denominator`s by \"10\", I will normalize all ratings by multiplying the numerator by a factor that would make the denominator 10."
   ]
  },
  {
   "cell_type": "code",
   "execution_count": 642,
   "metadata": {},
   "outputs": [
    {
     "name": "stdout",
     "output_type": "stream",
     "text": [
      "@jonnysun @Lin_Manuel ok jomny I know you're excited but 960/00 isn't a valid rating, 13/10 is tho\n"
     ]
    }
   ],
   "source": [
    "# There is one exception with the parsed rating (cannot be divided by 0)\n",
    "print(twitter_archive_clean_df.query('denominator == \"00\"').iloc[0].text)"
   ]
  },
  {
   "cell_type": "code",
   "execution_count": 643,
   "metadata": {},
   "outputs": [
    {
     "name": "stdout",
     "output_type": "stream",
     "text": [
      "<class 'pandas.core.frame.DataFrame'>\n",
      "RangeIndex: 2356 entries, 0 to 2355\n",
      "Data columns (total 16 columns):\n",
      "tweet_id              2356 non-null int64\n",
      "timestamp             2356 non-null datetime64[ns, UTC]\n",
      "source                2356 non-null object\n",
      "text                  2356 non-null object\n",
      "expanded_urls         2297 non-null object\n",
      "rating_numerator      2356 non-null int64\n",
      "rating_denominator    2356 non-null int64\n",
      "name                  2356 non-null object\n",
      "doggo                 2356 non-null object\n",
      "floofer               2356 non-null object\n",
      "pupper                2356 non-null object\n",
      "puppo                 2356 non-null object\n",
      "date                  2356 non-null object\n",
      "time                  2356 non-null object\n",
      "numerator             2356 non-null object\n",
      "denominator           2356 non-null object\n",
      "dtypes: datetime64[ns, UTC](1), int64(3), object(12)\n",
      "memory usage: 294.6+ KB\n"
     ]
    }
   ],
   "source": [
    "twitter_archive_clean_df.info()"
   ]
  },
  {
   "cell_type": "code",
   "execution_count": 644,
   "metadata": {},
   "outputs": [],
   "source": [
    "# Find factor that would make denominator = 0\n",
    "twitter_archive_clean_df['factor'] = 10.0 / twitter_archive_clean_df['denominator'].astype('float')"
   ]
  },
  {
   "cell_type": "code",
   "execution_count": 645,
   "metadata": {},
   "outputs": [],
   "source": [
    "# Multiply numerator by factor\n",
    "twitter_archive_clean_df['rating_numerator'] = round(twitter_archive_clean_df['numerator'].astype('float') * twitter_archive_clean_df['factor'],2)\n",
    "\n",
    "# Change denominator to 10\n",
    "twitter_archive_clean_df['rating_denominator'] = 10"
   ]
  },
  {
   "cell_type": "code",
   "execution_count": 646,
   "metadata": {},
   "outputs": [],
   "source": [
    "# Handle edge case where denominator = 0 (factor and numerator would be infinite). The rating should be 13/10\n",
    "twitter_archive_clean_df['rating_numerator'].replace(np.inf,13.0, inplace=True)"
   ]
  },
  {
   "cell_type": "code",
   "execution_count": 647,
   "metadata": {},
   "outputs": [
    {
     "data": {
      "text/plain": [
       "12.00      562\n",
       "11.00      469\n",
       "10.00      463\n",
       "13.00      352\n",
       "9.00       157\n",
       "8.00       102\n",
       "14.00       54\n",
       "7.00        54\n",
       "5.00        36\n",
       "6.00        32\n",
       "3.00        19\n",
       "4.00        15\n",
       "2.00        11\n",
       "1.00         8\n",
       "0.00         2\n",
       "8.18         2\n",
       "9.75         2\n",
       "15.00        2\n",
       "420.00       2\n",
       "666.00       1\n",
       "11.26        1\n",
       "1776.00      1\n",
       "13.50        1\n",
       "17.00        1\n",
       "9.50         1\n",
       "12.50        1\n",
       "11.27        1\n",
       "34.29        1\n",
       "7.33         1\n",
       "182.00       1\n",
       "6.36         1\n",
       "Name: rating_numerator, dtype: int64"
      ]
     },
     "execution_count": 647,
     "metadata": {},
     "output_type": "execute_result"
    }
   ],
   "source": [
    "# Check that the count for rating_numerator = 13 increased by 1 from 351 to 352\n",
    "twitter_archive_clean_df['rating_numerator'].value_counts()"
   ]
  },
  {
   "cell_type": "code",
   "execution_count": 648,
   "metadata": {},
   "outputs": [
    {
     "name": "stdout",
     "output_type": "stream",
     "text": [
      "<class 'pandas.core.frame.DataFrame'>\n",
      "RangeIndex: 2356 entries, 0 to 2355\n",
      "Data columns (total 14 columns):\n",
      "tweet_id              2356 non-null int64\n",
      "timestamp             2356 non-null datetime64[ns, UTC]\n",
      "source                2356 non-null object\n",
      "text                  2356 non-null object\n",
      "expanded_urls         2297 non-null object\n",
      "rating_numerator      2356 non-null float64\n",
      "rating_denominator    2356 non-null int64\n",
      "name                  2356 non-null object\n",
      "doggo                 2356 non-null object\n",
      "floofer               2356 non-null object\n",
      "pupper                2356 non-null object\n",
      "puppo                 2356 non-null object\n",
      "date                  2356 non-null object\n",
      "time                  2356 non-null object\n",
      "dtypes: datetime64[ns, UTC](1), float64(1), int64(2), object(10)\n",
      "memory usage: 257.8+ KB\n"
     ]
    }
   ],
   "source": [
    "# Drop uneccessary columns\n",
    "twitter_archive_clean_df.drop(columns = ['numerator', 'denominator', 'factor'], inplace=True)\n",
    "# Check\n",
    "twitter_archive_clean_df.info()"
   ]
  },
  {
   "cell_type": "markdown",
   "metadata": {},
   "source": [
    "**Quality 5:** Fix incorrect dog `name`s by changing incorrect ones to NaN. The incorrect ones have the first letter as lowercase."
   ]
  },
  {
   "cell_type": "code",
   "execution_count": 649,
   "metadata": {},
   "outputs": [],
   "source": [
    "names = []\n",
    "# Check if the first letter is lowercase.\n",
    "def incorrect_name(name):\n",
    "    if name[0].islower() == True:\n",
    "        names.append(\"None\")\n",
    "    else:\n",
    "        names.append(name)\n",
    "\n",
    "twitter_archive_clean_df[\"name\"].apply(incorrect_name)\n",
    "twitter_archive_clean_df[\"name\"] = pd.Series(names)\n",
    "twitter_archive_clean_df['name'].replace(\"None\", pd.np.nan, inplace=True)"
   ]
  },
  {
   "cell_type": "code",
   "execution_count": 650,
   "metadata": {},
   "outputs": [
    {
     "name": "stdout",
     "output_type": "stream",
     "text": [
      "<class 'pandas.core.frame.DataFrame'>\n",
      "RangeIndex: 2356 entries, 0 to 2355\n",
      "Data columns (total 14 columns):\n",
      "tweet_id              2356 non-null int64\n",
      "timestamp             2356 non-null datetime64[ns, UTC]\n",
      "source                2356 non-null object\n",
      "text                  2356 non-null object\n",
      "expanded_urls         2297 non-null object\n",
      "rating_numerator      2356 non-null float64\n",
      "rating_denominator    2356 non-null int64\n",
      "name                  1502 non-null object\n",
      "doggo                 2356 non-null object\n",
      "floofer               2356 non-null object\n",
      "pupper                2356 non-null object\n",
      "puppo                 2356 non-null object\n",
      "date                  2356 non-null object\n",
      "time                  2356 non-null object\n",
      "dtypes: datetime64[ns, UTC](1), float64(1), int64(2), object(10)\n",
      "memory usage: 257.8+ KB\n"
     ]
    }
   ],
   "source": [
    "# Check that replacement was successful\n",
    "twitter_archive_clean_df.info()"
   ]
  },
  {
   "cell_type": "markdown",
   "metadata": {},
   "source": [
    "**Quality 6:** `source` should leave out HTML tags."
   ]
  },
  {
   "cell_type": "code",
   "execution_count": 651,
   "metadata": {},
   "outputs": [
    {
     "data": {
      "text/plain": [
       "<a href=\"http://twitter.com/download/iphone\" rel=\"nofollow\">Twitter for iPhone</a>     2221\n",
       "<a href=\"http://vine.co\" rel=\"nofollow\">Vine - Make a Scene</a>                          91\n",
       "<a href=\"http://twitter.com\" rel=\"nofollow\">Twitter Web Client</a>                       33\n",
       "<a href=\"https://about.twitter.com/products/tweetdeck\" rel=\"nofollow\">TweetDeck</a>      11\n",
       "Name: source, dtype: int64"
      ]
     },
     "execution_count": 651,
     "metadata": {},
     "output_type": "execute_result"
    }
   ],
   "source": [
    "# See different values for source\n",
    "twitter_archive_clean_df.source.value_counts()"
   ]
  },
  {
   "cell_type": "markdown",
   "metadata": {},
   "source": [
    "We can categorize this by the 4 text values: \"Twitter for iPhone\", \"Vine - Make a Scene\", \"Twitter Web Client\", and \"TweetDeck\"."
   ]
  },
  {
   "cell_type": "code",
   "execution_count": 652,
   "metadata": {},
   "outputs": [],
   "source": [
    "twitter_archive_clean_df['source'] = twitter_archive_clean_df.source.apply(lambda x: x.split(\">\")[1].split(\"<\")[0])"
   ]
  },
  {
   "cell_type": "code",
   "execution_count": 653,
   "metadata": {},
   "outputs": [
    {
     "data": {
      "text/plain": [
       "Twitter for iPhone     2221\n",
       "Vine - Make a Scene      91\n",
       "Twitter Web Client       33\n",
       "TweetDeck                11\n",
       "Name: source, dtype: int64"
      ]
     },
     "execution_count": 653,
     "metadata": {},
     "output_type": "execute_result"
    }
   ],
   "source": [
    "# Check that parsing was successful\n",
    "twitter_archive_clean_df.source.value_counts()"
   ]
  },
  {
   "cell_type": "markdown",
   "metadata": {},
   "source": [
    "**Quality 7:** Remove unimportant columns from `image_preds_clean_df`. I will create one `dog_breed` column that takes the prediction with the highest confidence if the prediction is a dog. For example, I will take `p1` if `p1_dog` = True."
   ]
  },
  {
   "cell_type": "code",
   "execution_count": 654,
   "metadata": {},
   "outputs": [],
   "source": [
    "# Create empty list for dog_breeds\n",
    "breeds = []\n",
    "\n",
    "# Get best dog prediction\n",
    "def dog_breed(row):\n",
    "    if row[\"p1_dog\"] == True:\n",
    "        breeds.append(row[\"p1\"])\n",
    "    elif row[\"p2_dog\"] == True:\n",
    "        breeds.append(row[\"p2\"])\n",
    "    elif row[\"p3_dog\"] == True:\n",
    "        breeds.append(row[\"p3\"])\n",
    "    else:\n",
    "        breeds.append(pd.np.nan)\n",
    "        \n",
    "image_preds_clean_df.apply(dog_breed, axis=1)\n",
    "image_preds_clean_df['dog_breed'] = pd.Series(breeds).str.lower()"
   ]
  },
  {
   "cell_type": "code",
   "execution_count": 655,
   "metadata": {},
   "outputs": [
    {
     "data": {
      "text/plain": [
       "golden_retriever                  173\n",
       "labrador_retriever                113\n",
       "pembroke                           96\n",
       "chihuahua                          95\n",
       "pug                                65\n",
       "toy_poodle                         52\n",
       "chow                               51\n",
       "samoyed                            46\n",
       "pomeranian                         42\n",
       "cocker_spaniel                     34\n",
       "malamute                           34\n",
       "french_bulldog                     32\n",
       "chesapeake_bay_retriever           31\n",
       "miniature_pinscher                 26\n",
       "cardigan                           23\n",
       "eskimo_dog                         22\n",
       "staffordshire_bullterrier          22\n",
       "german_shepherd                    21\n",
       "beagle                             21\n",
       "shih-tzu                           20\n",
       "siberian_husky                     20\n",
       "lakeland_terrier                   19\n",
       "shetland_sheepdog                  19\n",
       "rottweiler                         19\n",
       "kuvasz                             19\n",
       "maltese_dog                        19\n",
       "basset                             17\n",
       "italian_greyhound                  17\n",
       "american_staffordshire_terrier     16\n",
       "west_highland_white_terrier        16\n",
       "                                 ... \n",
       "welsh_springer_spaniel              4\n",
       "scottish_deerhound                  4\n",
       "weimaraner                          4\n",
       "rhodesian_ridgeback                 4\n",
       "keeshond                            4\n",
       "bluetick                            4\n",
       "tibetan_terrier                     4\n",
       "leonberg                            3\n",
       "brabancon_griffon                   3\n",
       "komondor                            3\n",
       "curly-coated_retriever              3\n",
       "irish_water_spaniel                 3\n",
       "briard                              3\n",
       "greater_swiss_mountain_dog          3\n",
       "toy_terrier                         3\n",
       "cairn                               3\n",
       "black-and-tan_coonhound             2\n",
       "appenzeller                         2\n",
       "groenendael                         2\n",
       "australian_terrier                  2\n",
       "sussex_spaniel                      2\n",
       "wire-haired_fox_terrier             2\n",
       "irish_wolfhound                     1\n",
       "silky_terrier                       1\n",
       "japanese_spaniel                    1\n",
       "clumber                             1\n",
       "scotch_terrier                      1\n",
       "standard_schnauzer                  1\n",
       "bouvier_des_flandres                1\n",
       "entlebucher                         1\n",
       "Name: dog_breed, Length: 113, dtype: int64"
      ]
     },
     "execution_count": 655,
     "metadata": {},
     "output_type": "execute_result"
    }
   ],
   "source": [
    "image_preds_clean_df['dog_breed'].value_counts()"
   ]
  },
  {
   "cell_type": "markdown",
   "metadata": {},
   "source": [
    "**Quality 8:** Drop unnecessary columns from `image_preds_clean_df`."
   ]
  },
  {
   "cell_type": "code",
   "execution_count": 656,
   "metadata": {},
   "outputs": [
    {
     "name": "stdout",
     "output_type": "stream",
     "text": [
      "<class 'pandas.core.frame.DataFrame'>\n",
      "RangeIndex: 2075 entries, 0 to 2074\n",
      "Data columns (total 3 columns):\n",
      "tweet_id     2075 non-null int64\n",
      "jpg_url      2075 non-null object\n",
      "dog_breed    1751 non-null object\n",
      "dtypes: int64(1), object(2)\n",
      "memory usage: 48.7+ KB\n"
     ]
    }
   ],
   "source": [
    "# Drop unnecessary columns\n",
    "col = ['img_num','p1','p1_conf','p1_dog','p2','p2_conf','p2_dog','p3','p3_conf','p3_dog']\n",
    "image_preds_clean_df.drop(columns = col, inplace=True)\n",
    "\n",
    "# Check if successful\n",
    "image_preds_clean_df.info()"
   ]
  },
  {
   "cell_type": "markdown",
   "metadata": {},
   "source": [
    "**Tidiness 1:** Combine `doggo`, `floofer`, `pupper`, and `puppo` in `twitter_archive_df` from 4 columns into 1 `dog_stage` column."
   ]
  },
  {
   "cell_type": "code",
   "execution_count": 657,
   "metadata": {},
   "outputs": [],
   "source": [
    "# Replace None with NaN\n",
    "twitter_archive_clean_df[['doggo','floofer','pupper','puppo']] = twitter_archive_clean_df[['doggo','floofer','pupper','puppo']].replace(\"None\",pd.np.nan)"
   ]
  },
  {
   "cell_type": "code",
   "execution_count": 658,
   "metadata": {},
   "outputs": [],
   "source": [
    "# Unpivot dog stage columns into the dataframe dog_stages\n",
    "dog_stages = pd.melt(twitter_archive_clean_df, id_vars='tweet_id', value_vars=['doggo','floofer','pupper','puppo'], value_name='dog_stage')\n",
    "\n",
    "# Remove unwanted column\n",
    "dog_stages.drop(columns=[\"variable\"], inplace=True)\n",
    "\n",
    "# Remove rows where there is no dog_stage\n",
    "dog_stages = dog_stages[dog_stages.dog_stage.isnull()==False]"
   ]
  },
  {
   "cell_type": "code",
   "execution_count": 659,
   "metadata": {},
   "outputs": [
    {
     "data": {
      "text/plain": [
       "733109485275860992    2\n",
       "854010172552949760    2\n",
       "775898661951791106    2\n",
       "751583847268179968    2\n",
       "802265048156610565    2\n",
       "855851453814013952    2\n",
       "770093767776997377    2\n",
       "741067306818797568    2\n",
       "781308096455073793    2\n",
       "785639753186217984    2\n",
       "808106460588765185    2\n",
       "759793422261743616    2\n",
       "817777686764523521    2\n",
       "801115127852503040    2\n",
       "775733305207554048    1\n",
       "693590843962331137    1\n",
       "786363235746385920    1\n",
       "706310011488698368    1\n",
       "686618349602762752    1\n",
       "702598099714314240    1\n",
       "837110210464448512    1\n",
       "886366144734445568    1\n",
       "884162670584377345    1\n",
       "682406705142087680    1\n",
       "678800283649069056    1\n",
       "673148804208660480    1\n",
       "791821351946420224    1\n",
       "675740360753160193    1\n",
       "825026590719483904    1\n",
       "684588130326986752    1\n",
       "                     ..\n",
       "685667379192414208    1\n",
       "674318007229923329    1\n",
       "677269281705472000    1\n",
       "808733504066486276    1\n",
       "836753516572119041    1\n",
       "680176173301628928    1\n",
       "675006312288268288    1\n",
       "680473011644985345    1\n",
       "758828659922702336    1\n",
       "693095443459342336    1\n",
       "778039087836069888    1\n",
       "760521673607086080    1\n",
       "676470639084101634    1\n",
       "680191257256136705    1\n",
       "673295268553605120    1\n",
       "693629975228977152    1\n",
       "833124694597443584    1\n",
       "825120256414846976    1\n",
       "826958653328592898    1\n",
       "683142553609318400    1\n",
       "829878982036299777    1\n",
       "817181837579653120    1\n",
       "751950017322246144    1\n",
       "793195938047070209    1\n",
       "686683045143953408    1\n",
       "795464331001561088    1\n",
       "692752401762250755    1\n",
       "826848821049180160    1\n",
       "703407252292673536    1\n",
       "800443802682937345    1\n",
       "Name: tweet_id, Length: 380, dtype: int64"
      ]
     },
     "execution_count": 659,
     "metadata": {},
     "output_type": "execute_result"
    }
   ],
   "source": [
    "# Check that each tweet has a unique (or null) stage\n",
    "dog_stages.tweet_id.value_counts()"
   ]
  },
  {
   "cell_type": "code",
   "execution_count": 660,
   "metadata": {},
   "outputs": [
    {
     "data": {
      "text/html": [
       "<div>\n",
       "<style scoped>\n",
       "    .dataframe tbody tr th:only-of-type {\n",
       "        vertical-align: middle;\n",
       "    }\n",
       "\n",
       "    .dataframe tbody tr th {\n",
       "        vertical-align: top;\n",
       "    }\n",
       "\n",
       "    .dataframe thead th {\n",
       "        text-align: right;\n",
       "    }\n",
       "</style>\n",
       "<table border=\"1\" class=\"dataframe\">\n",
       "  <thead>\n",
       "    <tr style=\"text-align: right;\">\n",
       "      <th></th>\n",
       "      <th>tweet_id</th>\n",
       "      <th>timestamp</th>\n",
       "      <th>source</th>\n",
       "      <th>text</th>\n",
       "      <th>expanded_urls</th>\n",
       "      <th>rating_numerator</th>\n",
       "      <th>rating_denominator</th>\n",
       "      <th>name</th>\n",
       "      <th>doggo</th>\n",
       "      <th>floofer</th>\n",
       "      <th>pupper</th>\n",
       "      <th>puppo</th>\n",
       "      <th>date</th>\n",
       "      <th>time</th>\n",
       "    </tr>\n",
       "  </thead>\n",
       "  <tbody>\n",
       "    <tr>\n",
       "      <th>1113</th>\n",
       "      <td>733109485275860992</td>\n",
       "      <td>2016-05-19 01:38:16+00:00</td>\n",
       "      <td>Twitter for iPhone</td>\n",
       "      <td>Like father (doggo), like son (pupper). Both 1...</td>\n",
       "      <td>https://twitter.com/dog_rates/status/733109485...</td>\n",
       "      <td>12.0</td>\n",
       "      <td>10</td>\n",
       "      <td>NaN</td>\n",
       "      <td>doggo</td>\n",
       "      <td>NaN</td>\n",
       "      <td>pupper</td>\n",
       "      <td>NaN</td>\n",
       "      <td>2016-05-19</td>\n",
       "      <td>01:38:16</td>\n",
       "    </tr>\n",
       "  </tbody>\n",
       "</table>\n",
       "</div>"
      ],
      "text/plain": [
       "                tweet_id                 timestamp              source  \\\n",
       "1113  733109485275860992 2016-05-19 01:38:16+00:00  Twitter for iPhone   \n",
       "\n",
       "                                                   text  \\\n",
       "1113  Like father (doggo), like son (pupper). Both 1...   \n",
       "\n",
       "                                          expanded_urls  rating_numerator  \\\n",
       "1113  https://twitter.com/dog_rates/status/733109485...              12.0   \n",
       "\n",
       "      rating_denominator name  doggo floofer  pupper puppo        date  \\\n",
       "1113                  10  NaN  doggo     NaN  pupper   NaN  2016-05-19   \n",
       "\n",
       "          time  \n",
       "1113  01:38:16  "
      ]
     },
     "execution_count": 660,
     "metadata": {},
     "output_type": "execute_result"
    }
   ],
   "source": [
    "# There are actually some tweets with multiple dog stages\n",
    "# Dog_stage column will only be left joined when doing an analysis on dog_stage to avoid double counting\n",
    "twitter_archive_clean_df[twitter_archive_clean_df.tweet_id == 733109485275860992]"
   ]
  },
  {
   "cell_type": "code",
   "execution_count": 661,
   "metadata": {},
   "outputs": [],
   "source": [
    "# Drop unwanted columns\n",
    "col = [\"doggo\",\"floofer\",\"pupper\",\"puppo\"]\n",
    "twitter_archive_clean_df.drop(columns = col, inplace = True)"
   ]
  },
  {
   "cell_type": "code",
   "execution_count": 662,
   "metadata": {},
   "outputs": [],
   "source": [
    "# Merge dog_stages to twitter_archive_clean_df in a new dataframe\n",
    "twitter_archive_clean_df_doggo = twitter_archive_clean_df.merge(dog_stages, how=\"left\", on=\"tweet_id\")"
   ]
  },
  {
   "cell_type": "code",
   "execution_count": 663,
   "metadata": {},
   "outputs": [
    {
     "name": "stdout",
     "output_type": "stream",
     "text": [
      "<class 'pandas.core.frame.DataFrame'>\n",
      "RangeIndex: 2356 entries, 0 to 2355\n",
      "Data columns (total 10 columns):\n",
      "tweet_id              2356 non-null int64\n",
      "timestamp             2356 non-null datetime64[ns, UTC]\n",
      "source                2356 non-null object\n",
      "text                  2356 non-null object\n",
      "expanded_urls         2297 non-null object\n",
      "rating_numerator      2356 non-null float64\n",
      "rating_denominator    2356 non-null int64\n",
      "name                  1502 non-null object\n",
      "date                  2356 non-null object\n",
      "time                  2356 non-null object\n",
      "dtypes: datetime64[ns, UTC](1), float64(1), int64(2), object(6)\n",
      "memory usage: 184.1+ KB\n"
     ]
    }
   ],
   "source": [
    "# Check if successful\n",
    "twitter_archive_clean_df.info()"
   ]
  },
  {
   "cell_type": "code",
   "execution_count": 664,
   "metadata": {},
   "outputs": [
    {
     "name": "stdout",
     "output_type": "stream",
     "text": [
      "<class 'pandas.core.frame.DataFrame'>\n",
      "Int64Index: 2370 entries, 0 to 2369\n",
      "Data columns (total 11 columns):\n",
      "tweet_id              2370 non-null int64\n",
      "timestamp             2370 non-null datetime64[ns, UTC]\n",
      "source                2370 non-null object\n",
      "text                  2370 non-null object\n",
      "expanded_urls         2311 non-null object\n",
      "rating_numerator      2370 non-null float64\n",
      "rating_denominator    2370 non-null int64\n",
      "name                  1506 non-null object\n",
      "date                  2370 non-null object\n",
      "time                  2370 non-null object\n",
      "dog_stage             394 non-null object\n",
      "dtypes: datetime64[ns, UTC](1), float64(1), int64(2), object(7)\n",
      "memory usage: 222.2+ KB\n"
     ]
    }
   ],
   "source": [
    "# Check if successful\n",
    "twitter_archive_clean_df_doggo.info()"
   ]
  },
  {
   "cell_type": "markdown",
   "metadata": {},
   "source": [
    "**Tidiness 2:** Combine all 3 dataframes into 1."
   ]
  },
  {
   "cell_type": "code",
   "execution_count": 675,
   "metadata": {},
   "outputs": [
    {
     "data": {
      "text/html": [
       "<div>\n",
       "<style scoped>\n",
       "    .dataframe tbody tr th:only-of-type {\n",
       "        vertical-align: middle;\n",
       "    }\n",
       "\n",
       "    .dataframe tbody tr th {\n",
       "        vertical-align: top;\n",
       "    }\n",
       "\n",
       "    .dataframe thead th {\n",
       "        text-align: right;\n",
       "    }\n",
       "</style>\n",
       "<table border=\"1\" class=\"dataframe\">\n",
       "  <thead>\n",
       "    <tr style=\"text-align: right;\">\n",
       "      <th></th>\n",
       "      <th>tweet_id</th>\n",
       "      <th>timestamp</th>\n",
       "      <th>source</th>\n",
       "      <th>text</th>\n",
       "      <th>expanded_urls</th>\n",
       "      <th>rating_numerator</th>\n",
       "      <th>rating_denominator</th>\n",
       "      <th>name</th>\n",
       "      <th>date</th>\n",
       "      <th>time</th>\n",
       "      <th>jpg_url</th>\n",
       "      <th>dog_breed</th>\n",
       "      <th>favorite_count</th>\n",
       "      <th>retweet_count</th>\n",
       "    </tr>\n",
       "  </thead>\n",
       "  <tbody>\n",
       "    <tr>\n",
       "      <th>0</th>\n",
       "      <td>8.924206e+17</td>\n",
       "      <td>2017-08-01 16:23:56+00:00</td>\n",
       "      <td>Twitter for iPhone</td>\n",
       "      <td>This is Phineas. He's a mystical boy. Only eve...</td>\n",
       "      <td>https://twitter.com/dog_rates/status/892420643...</td>\n",
       "      <td>13.0</td>\n",
       "      <td>10.0</td>\n",
       "      <td>Phineas</td>\n",
       "      <td>2017-08-01</td>\n",
       "      <td>16:23:56</td>\n",
       "      <td>https://pbs.twimg.com/media/DGKD1-bXoAAIAUK.jpg</td>\n",
       "      <td>NaN</td>\n",
       "      <td>37164</td>\n",
       "      <td>7950</td>\n",
       "    </tr>\n",
       "  </tbody>\n",
       "</table>\n",
       "</div>"
      ],
      "text/plain": [
       "       tweet_id                 timestamp              source  \\\n",
       "0  8.924206e+17 2017-08-01 16:23:56+00:00  Twitter for iPhone   \n",
       "\n",
       "                                                text  \\\n",
       "0  This is Phineas. He's a mystical boy. Only eve...   \n",
       "\n",
       "                                       expanded_urls  rating_numerator  \\\n",
       "0  https://twitter.com/dog_rates/status/892420643...              13.0   \n",
       "\n",
       "   rating_denominator     name        date      time  \\\n",
       "0                10.0  Phineas  2017-08-01  16:23:56   \n",
       "\n",
       "                                           jpg_url dog_breed  favorite_count  \\\n",
       "0  https://pbs.twimg.com/media/DGKD1-bXoAAIAUK.jpg       NaN           37164   \n",
       "\n",
       "   retweet_count  \n",
       "0           7950  "
      ]
     },
     "execution_count": 675,
     "metadata": {},
     "output_type": "execute_result"
    }
   ],
   "source": [
    "# Use inner join because we want to analyze tweets that have been classified by dog breeds\n",
    "df = twitter_archive_clean_df.merge(image_preds_clean_df, how=\"inner\", on=\"tweet_id\")\n",
    "df = df.merge(tweets_clean_df, how=\"right\", left_on =\"tweet_id\", right_on=\"id\")\n",
    "df.drop(columns=['created_at','id'], inplace=True)\n",
    "\n",
    "# Check if successful\n",
    "df.head(1)"
   ]
  },
  {
   "cell_type": "code",
   "execution_count": 677,
   "metadata": {},
   "outputs": [
    {
     "data": {
      "text/html": [
       "<div>\n",
       "<style scoped>\n",
       "    .dataframe tbody tr th:only-of-type {\n",
       "        vertical-align: middle;\n",
       "    }\n",
       "\n",
       "    .dataframe tbody tr th {\n",
       "        vertical-align: top;\n",
       "    }\n",
       "\n",
       "    .dataframe thead th {\n",
       "        text-align: right;\n",
       "    }\n",
       "</style>\n",
       "<table border=\"1\" class=\"dataframe\">\n",
       "  <thead>\n",
       "    <tr style=\"text-align: right;\">\n",
       "      <th></th>\n",
       "      <th>tweet_id</th>\n",
       "      <th>timestamp</th>\n",
       "      <th>source</th>\n",
       "      <th>text</th>\n",
       "      <th>expanded_urls</th>\n",
       "      <th>rating_numerator</th>\n",
       "      <th>rating_denominator</th>\n",
       "      <th>name</th>\n",
       "      <th>date</th>\n",
       "      <th>time</th>\n",
       "      <th>dog_stage</th>\n",
       "      <th>jpg_url</th>\n",
       "      <th>dog_breed</th>\n",
       "      <th>favorite_count</th>\n",
       "      <th>retweet_count</th>\n",
       "    </tr>\n",
       "  </thead>\n",
       "  <tbody>\n",
       "    <tr>\n",
       "      <th>0</th>\n",
       "      <td>8.924206e+17</td>\n",
       "      <td>2017-08-01 16:23:56+00:00</td>\n",
       "      <td>Twitter for iPhone</td>\n",
       "      <td>This is Phineas. He's a mystical boy. Only eve...</td>\n",
       "      <td>https://twitter.com/dog_rates/status/892420643...</td>\n",
       "      <td>13.0</td>\n",
       "      <td>10.0</td>\n",
       "      <td>Phineas</td>\n",
       "      <td>2017-08-01</td>\n",
       "      <td>16:23:56</td>\n",
       "      <td>NaN</td>\n",
       "      <td>https://pbs.twimg.com/media/DGKD1-bXoAAIAUK.jpg</td>\n",
       "      <td>NaN</td>\n",
       "      <td>37164</td>\n",
       "      <td>7950</td>\n",
       "    </tr>\n",
       "  </tbody>\n",
       "</table>\n",
       "</div>"
      ],
      "text/plain": [
       "       tweet_id                 timestamp              source  \\\n",
       "0  8.924206e+17 2017-08-01 16:23:56+00:00  Twitter for iPhone   \n",
       "\n",
       "                                                text  \\\n",
       "0  This is Phineas. He's a mystical boy. Only eve...   \n",
       "\n",
       "                                       expanded_urls  rating_numerator  \\\n",
       "0  https://twitter.com/dog_rates/status/892420643...              13.0   \n",
       "\n",
       "   rating_denominator     name        date      time dog_stage  \\\n",
       "0                10.0  Phineas  2017-08-01  16:23:56       NaN   \n",
       "\n",
       "                                           jpg_url dog_breed  favorite_count  \\\n",
       "0  https://pbs.twimg.com/media/DGKD1-bXoAAIAUK.jpg       NaN           37164   \n",
       "\n",
       "   retweet_count  \n",
       "0           7950  "
      ]
     },
     "execution_count": 677,
     "metadata": {},
     "output_type": "execute_result"
    }
   ],
   "source": [
    "# Do the same merging for the dataset with dog stages\n",
    "df_doggo = twitter_archive_clean_df_doggo.merge(image_preds_clean_df, how=\"inner\", on=\"tweet_id\")\n",
    "df_doggo = df_doggo.merge(tweets_clean_df, how=\"right\", left_on =\"tweet_id\", right_on=\"id\")\n",
    "df_doggo.drop(columns=['created_at','id'], inplace=True)\n",
    "\n",
    "# Check if successful\n",
    "df_doggo.head(1)"
   ]
  },
  {
   "cell_type": "markdown",
   "metadata": {},
   "source": [
    "After cleaning the dataset, save these new tables as .csv files."
   ]
  },
  {
   "cell_type": "code",
   "execution_count": 680,
   "metadata": {},
   "outputs": [],
   "source": [
    "df.to_csv(\"weratedogs_clean.csv\", index=False)\n",
    "df_doggo.to_csv(\"weratedogs_clean_dogstages.csv\", index=False)"
   ]
  },
  {
   "cell_type": "markdown",
   "metadata": {},
   "source": [
    "<a id='analyze'></a>\n",
    "## Analyze\n",
    "\n",
    "My insights for this dataset will be regarding these 2 questions:\n",
    "1. What is the average rating and popularity by dog breed? \n",
    "2. What is the average rating and popularity by dog stage?\n",
    "\n",
    "### Insights for dog breeds"
   ]
  },
  {
   "cell_type": "code",
   "execution_count": 698,
   "metadata": {},
   "outputs": [
    {
     "data": {
      "text/html": [
       "<div>\n",
       "<style scoped>\n",
       "    .dataframe tbody tr th:only-of-type {\n",
       "        vertical-align: middle;\n",
       "    }\n",
       "\n",
       "    .dataframe tbody tr th {\n",
       "        vertical-align: top;\n",
       "    }\n",
       "\n",
       "    .dataframe thead th {\n",
       "        text-align: right;\n",
       "    }\n",
       "</style>\n",
       "<table border=\"1\" class=\"dataframe\">\n",
       "  <thead>\n",
       "    <tr style=\"text-align: right;\">\n",
       "      <th></th>\n",
       "      <th>rating_numerator</th>\n",
       "    </tr>\n",
       "  </thead>\n",
       "  <tbody>\n",
       "    <tr>\n",
       "      <th>count</th>\n",
       "      <td>113.000000</td>\n",
       "    </tr>\n",
       "    <tr>\n",
       "      <th>mean</th>\n",
       "      <td>10.637943</td>\n",
       "    </tr>\n",
       "    <tr>\n",
       "      <th>std</th>\n",
       "      <td>0.953541</td>\n",
       "    </tr>\n",
       "    <tr>\n",
       "      <th>min</th>\n",
       "      <td>5.000000</td>\n",
       "    </tr>\n",
       "    <tr>\n",
       "      <th>25%</th>\n",
       "      <td>10.133333</td>\n",
       "    </tr>\n",
       "    <tr>\n",
       "      <th>50%</th>\n",
       "      <td>10.650000</td>\n",
       "    </tr>\n",
       "    <tr>\n",
       "      <th>75%</th>\n",
       "      <td>11.250000</td>\n",
       "    </tr>\n",
       "    <tr>\n",
       "      <th>max</th>\n",
       "      <td>13.000000</td>\n",
       "    </tr>\n",
       "  </tbody>\n",
       "</table>\n",
       "</div>"
      ],
      "text/plain": [
       "       rating_numerator\n",
       "count        113.000000\n",
       "mean          10.637943\n",
       "std            0.953541\n",
       "min            5.000000\n",
       "25%           10.133333\n",
       "50%           10.650000\n",
       "75%           11.250000\n",
       "max           13.000000"
      ]
     },
     "execution_count": 698,
     "metadata": {},
     "output_type": "execute_result"
    }
   ],
   "source": [
    "avg_rating_breed = pd.DataFrame(df.groupby('dog_breed').mean().rating_numerator).sort_values('rating_numerator')\n",
    "avg_rating_breed.describe()"
   ]
  },
  {
   "cell_type": "code",
   "execution_count": 701,
   "metadata": {},
   "outputs": [
    {
     "data": {
      "text/html": [
       "<div>\n",
       "<style scoped>\n",
       "    .dataframe tbody tr th:only-of-type {\n",
       "        vertical-align: middle;\n",
       "    }\n",
       "\n",
       "    .dataframe tbody tr th {\n",
       "        vertical-align: top;\n",
       "    }\n",
       "\n",
       "    .dataframe thead th {\n",
       "        text-align: right;\n",
       "    }\n",
       "</style>\n",
       "<table border=\"1\" class=\"dataframe\">\n",
       "  <thead>\n",
       "    <tr style=\"text-align: right;\">\n",
       "      <th></th>\n",
       "      <th>rating_numerator</th>\n",
       "    </tr>\n",
       "    <tr>\n",
       "      <th>dog_breed</th>\n",
       "      <th></th>\n",
       "    </tr>\n",
       "  </thead>\n",
       "  <tbody>\n",
       "    <tr>\n",
       "      <th>bouvier_des_flandres</th>\n",
       "      <td>13.0</td>\n",
       "    </tr>\n",
       "  </tbody>\n",
       "</table>\n",
       "</div>"
      ],
      "text/plain": [
       "                      rating_numerator\n",
       "dog_breed                             \n",
       "bouvier_des_flandres              13.0"
      ]
     },
     "execution_count": 701,
     "metadata": {},
     "output_type": "execute_result"
    }
   ],
   "source": [
    "# Which dog has the highest average rating?\n",
    "avg_rating_breed[avg_rating_breed.rating_numerator == avg_rating_breed.rating_numerator.max()]"
   ]
  },
  {
   "cell_type": "code",
   "execution_count": 702,
   "metadata": {},
   "outputs": [
    {
     "data": {
      "text/html": [
       "<div>\n",
       "<style scoped>\n",
       "    .dataframe tbody tr th:only-of-type {\n",
       "        vertical-align: middle;\n",
       "    }\n",
       "\n",
       "    .dataframe tbody tr th {\n",
       "        vertical-align: top;\n",
       "    }\n",
       "\n",
       "    .dataframe thead th {\n",
       "        text-align: right;\n",
       "    }\n",
       "</style>\n",
       "<table border=\"1\" class=\"dataframe\">\n",
       "  <thead>\n",
       "    <tr style=\"text-align: right;\">\n",
       "      <th></th>\n",
       "      <th>rating_numerator</th>\n",
       "    </tr>\n",
       "    <tr>\n",
       "      <th>dog_breed</th>\n",
       "      <th></th>\n",
       "    </tr>\n",
       "  </thead>\n",
       "  <tbody>\n",
       "    <tr>\n",
       "      <th>japanese_spaniel</th>\n",
       "      <td>5.0</td>\n",
       "    </tr>\n",
       "  </tbody>\n",
       "</table>\n",
       "</div>"
      ],
      "text/plain": [
       "                  rating_numerator\n",
       "dog_breed                         \n",
       "japanese_spaniel               5.0"
      ]
     },
     "execution_count": 702,
     "metadata": {},
     "output_type": "execute_result"
    }
   ],
   "source": [
    "# Which dog has the lowest average rating?\n",
    "avg_rating_breed[avg_rating_breed.rating_numerator == avg_rating_breed.rating_numerator.min()]"
   ]
  },
  {
   "cell_type": "markdown",
   "metadata": {},
   "source": [
    "Out of the 113 breeds identified, the average rating out of 10 is 10.64. The highest average is 13.00 which belongs to the bouvier des flandres (I had to Google this breed). The lowest average is 5.00 which belongs to the Japanese spaniel.\n",
    "\n",
    "Since there are a lot of breeds with many rare or uncommon ones, I will filter the dataset for less dog breeds using a tweet count threshold."
   ]
  },
  {
   "cell_type": "code",
   "execution_count": 707,
   "metadata": {},
   "outputs": [
    {
     "data": {
      "text/html": [
       "<div>\n",
       "<style scoped>\n",
       "    .dataframe tbody tr th:only-of-type {\n",
       "        vertical-align: middle;\n",
       "    }\n",
       "\n",
       "    .dataframe tbody tr th {\n",
       "        vertical-align: top;\n",
       "    }\n",
       "\n",
       "    .dataframe thead th {\n",
       "        text-align: right;\n",
       "    }\n",
       "</style>\n",
       "<table border=\"1\" class=\"dataframe\">\n",
       "  <thead>\n",
       "    <tr style=\"text-align: right;\">\n",
       "      <th></th>\n",
       "      <th>tweet_id</th>\n",
       "    </tr>\n",
       "  </thead>\n",
       "  <tbody>\n",
       "    <tr>\n",
       "      <th>count</th>\n",
       "      <td>113.000000</td>\n",
       "    </tr>\n",
       "    <tr>\n",
       "      <th>mean</th>\n",
       "      <td>15.380531</td>\n",
       "    </tr>\n",
       "    <tr>\n",
       "      <th>std</th>\n",
       "      <td>23.571820</td>\n",
       "    </tr>\n",
       "    <tr>\n",
       "      <th>min</th>\n",
       "      <td>1.000000</td>\n",
       "    </tr>\n",
       "    <tr>\n",
       "      <th>25%</th>\n",
       "      <td>4.000000</td>\n",
       "    </tr>\n",
       "    <tr>\n",
       "      <th>50%</th>\n",
       "      <td>8.000000</td>\n",
       "    </tr>\n",
       "    <tr>\n",
       "      <th>75%</th>\n",
       "      <td>16.000000</td>\n",
       "    </tr>\n",
       "    <tr>\n",
       "      <th>max</th>\n",
       "      <td>173.000000</td>\n",
       "    </tr>\n",
       "  </tbody>\n",
       "</table>\n",
       "</div>"
      ],
      "text/plain": [
       "         tweet_id\n",
       "count  113.000000\n",
       "mean    15.380531\n",
       "std     23.571820\n",
       "min      1.000000\n",
       "25%      4.000000\n",
       "50%      8.000000\n",
       "75%     16.000000\n",
       "max    173.000000"
      ]
     },
     "execution_count": 707,
     "metadata": {},
     "output_type": "execute_result"
    }
   ],
   "source": [
    "# Count the number of tweets for each dog breed\n",
    "count_rating_breed = pd.DataFrame(df.groupby('dog_breed').count().tweet_id).sort_values('tweet_id')\n",
    "count_rating_breed.describe()"
   ]
  },
  {
   "cell_type": "code",
   "execution_count": 708,
   "metadata": {},
   "outputs": [
    {
     "data": {
      "text/plain": [
       "array([[<matplotlib.axes._subplots.AxesSubplot object at 0x136deae10>]],\n",
       "      dtype=object)"
      ]
     },
     "execution_count": 708,
     "metadata": {},
     "output_type": "execute_result"
    },
    {
     "data": {
      "image/png": "[encoded data removed]",
      "text/plain": [
       "<Figure size 432x288 with 1 Axes>"
      ]
     },
     "metadata": {
      "needs_background": "light"
     },
     "output_type": "display_data"
    }
   ],
   "source": [
    "# Plot distribution\n",
    "count_rating_breed.hist()"
   ]
  },
  {
   "cell_type": "markdown",
   "metadata": {},
   "source": [
    "Out of the 113 breeds, the average count of tweets is 15. The distribution of tweet counts by dog breeds is heavily skewed right, with 25% of the breeds (28 breeds) having less than 4 tweets. If I eliminate dog breeds that have under 16 tweets, I will only get the top quartile with ~28 more common breeds to observe."
   ]
  },
  {
   "cell_type": "code",
   "execution_count": 726,
   "metadata": {},
   "outputs": [
    {
     "data": {
      "text/html": [
       "<div>\n",
       "<style scoped>\n",
       "    .dataframe tbody tr th:only-of-type {\n",
       "        vertical-align: middle;\n",
       "    }\n",
       "\n",
       "    .dataframe tbody tr th {\n",
       "        vertical-align: top;\n",
       "    }\n",
       "\n",
       "    .dataframe thead th {\n",
       "        text-align: right;\n",
       "    }\n",
       "</style>\n",
       "<table border=\"1\" class=\"dataframe\">\n",
       "  <thead>\n",
       "    <tr style=\"text-align: right;\">\n",
       "      <th></th>\n",
       "      <th>rating_numerator</th>\n",
       "    </tr>\n",
       "  </thead>\n",
       "  <tbody>\n",
       "    <tr>\n",
       "      <th>count</th>\n",
       "      <td>29.000000</td>\n",
       "    </tr>\n",
       "    <tr>\n",
       "      <th>mean</th>\n",
       "      <td>10.837274</td>\n",
       "    </tr>\n",
       "    <tr>\n",
       "      <th>std</th>\n",
       "      <td>0.543282</td>\n",
       "    </tr>\n",
       "    <tr>\n",
       "      <th>min</th>\n",
       "      <td>9.526316</td>\n",
       "    </tr>\n",
       "    <tr>\n",
       "      <th>25%</th>\n",
       "      <td>10.526316</td>\n",
       "    </tr>\n",
       "    <tr>\n",
       "      <th>50%</th>\n",
       "      <td>10.882353</td>\n",
       "    </tr>\n",
       "    <tr>\n",
       "      <th>75%</th>\n",
       "      <td>11.173913</td>\n",
       "    </tr>\n",
       "    <tr>\n",
       "      <th>max</th>\n",
       "      <td>11.755556</td>\n",
       "    </tr>\n",
       "  </tbody>\n",
       "</table>\n",
       "</div>"
      ],
      "text/plain": [
       "       rating_numerator\n",
       "count         29.000000\n",
       "mean          10.837274\n",
       "std            0.543282\n",
       "min            9.526316\n",
       "25%           10.526316\n",
       "50%           10.882353\n",
       "75%           11.173913\n",
       "max           11.755556"
      ]
     },
     "execution_count": 726,
     "metadata": {},
     "output_type": "execute_result"
    }
   ],
   "source": [
    "# Get list of dog breeds with 16 or more tweets\n",
    "dog_breeds = pd.DataFrame(count_rating_breed[count_rating_breed.tweet_id >= 16].reset_index().dog_breed)\n",
    "\n",
    "# Filter dataframe\n",
    "df_filtered_breeds = df.merge(dog_breeds, how=\"inner\", on=\"dog_breed\")\n",
    "\n",
    "# Get distribution of ratings for these popular dog breeds\n",
    "pd.DataFrame(df_filtered_breeds.groupby('dog_breed').mean().rating_numerator).sort_values('rating_numerator').describe()"
   ]
  },
  {
   "cell_type": "code",
   "execution_count": 748,
   "metadata": {},
   "outputs": [
    {
     "data": {
      "image/png": "[encoded data removed]",
      "text/plain": [
       "<Figure size 1080x576 with 1 Axes>"
      ]
     },
     "metadata": {
      "needs_background": "light"
     },
     "output_type": "display_data"
    }
   ],
   "source": [
    "# Plot ratings\n",
    "fig = plt.figure(figsize=(15,8))\n",
    "df_filtered_breeds.groupby(\"dog_breed\").mean().sort_values('rating_numerator').rating_numerator.plot(kind=\"bar\")\n",
    "plt.title(\"Average Ratings by Dog Breed\")\n",
    "plt.ylabel(\"Average Rating\")\n",
    "plt.xlabel(\"Dog Breed\")\n",
    "plt.ylim(9,12);"
   ]
  },
  {
   "cell_type": "markdown",
   "metadata": {},
   "source": [
    "Samoyed is the dog with highest ratings among the 29 popular dog breeds with at least 16 tweets. Golder retriever is a close second. The maltese dog is less popular with an average rating below 10. \n",
    "\n",
    "Besides average rating, I will check if average rating has correlation with retweet count or favorite count."
   ]
  },
  {
   "cell_type": "code",
   "execution_count": 776,
   "metadata": {},
   "outputs": [
    {
     "data": {
      "text/plain": [
       "Text(0.5, 1.0, 'Retweet count v. Rating of Tweets')"
      ]
     },
     "execution_count": 776,
     "metadata": {},
     "output_type": "execute_result"
    },
    {
     "data": {
      "image/png": "[encoded data removed]",
      "text/plain": [
       "<Figure size 432x288 with 1 Axes>"
      ]
     },
     "metadata": {
      "needs_background": "light"
     },
     "output_type": "display_data"
    }
   ],
   "source": [
    "stats_by_breed = df.groupby('dog_breed').mean()[[\"rating_numerator\",\"favorite_count\",\"retweet_count\"]]\n",
    "\n",
    "# Plot rating by retweet count\n",
    "stats_by_breed.plot(x='rating_numerator', y='retweet_count', kind='scatter')\n",
    "sns.regplot(stats_by_breed['rating_numerator'], stats_by_breed['retweet_count'])\n",
    "plt.title('Retweet count v. Rating of Tweets')"
   ]
  },
  {
   "cell_type": "code",
   "execution_count": 775,
   "metadata": {},
   "outputs": [
    {
     "data": {
      "text/plain": [
       "Text(0.5, 1.0, 'Retweet count v. Rating of Tweets')"
      ]
     },
     "execution_count": 775,
     "metadata": {},
     "output_type": "execute_result"
    },
    {
     "data": {
      "image/png": "[encoded data removed]",
      "text/plain": [
       "<Figure size 432x288 with 1 Axes>"
      ]
     },
     "metadata": {
      "needs_background": "light"
     },
     "output_type": "display_data"
    }
   ],
   "source": [
    "# Ignore the 5 rating because it's an outlier\n",
    "stats_by_breed = stats_by_breed.query('rating_numerator > 5')\n",
    "\n",
    "stats_by_breed.plot(x='rating_numerator', y='retweet_count', kind='scatter')\n",
    "sns.regplot(stats_by_breed['rating_numerator'], stats_by_breed['retweet_count'])\n",
    "plt.title('Retweet count v. Rating of Tweets')"
   ]
  },
  {
   "cell_type": "markdown",
   "metadata": {},
   "source": [
    "The positive slope indicates there's a correlation between rating and retweet."
   ]
  },
  {
   "cell_type": "code",
   "execution_count": 774,
   "metadata": {},
   "outputs": [
    {
     "data": {
      "text/plain": [
       "Text(0.5, 1.0, 'Favorite count v. Rating of Tweets')"
      ]
     },
     "execution_count": 774,
     "metadata": {},
     "output_type": "execute_result"
    },
    {
     "data": {
      "image/png": "[encoded data removed]",
      "text/plain": [
       "<Figure size 432x288 with 1 Axes>"
      ]
     },
     "metadata": {
      "needs_background": "light"
     },
     "output_type": "display_data"
    }
   ],
   "source": [
    "# Plot rating by favorite count\n",
    "stats_by_breed.plot(x='rating_numerator', y='favorite_count', kind='scatter')\n",
    "sns.regplot(stats_by_breed['rating_numerator'], stats_by_breed['favorite_count'])\n",
    "plt.title('Favorite count v. Rating of Tweets')"
   ]
  },
  {
   "cell_type": "markdown",
   "metadata": {},
   "source": [
    "There's also a positive correlation with rating and favorite count."
   ]
  },
  {
   "cell_type": "code",
   "execution_count": 777,
   "metadata": {},
   "outputs": [
    {
     "data": {
      "text/plain": [
       "Text(0.5, 1.0, 'Favorite count v. Rating of Tweets')"
      ]
     },
     "execution_count": 777,
     "metadata": {},
     "output_type": "execute_result"
    },
    {
     "data": {
      "image/png": "[encoded data removed]",
      "text/plain": [
       "<Figure size 432x288 with 1 Axes>"
      ]
     },
     "metadata": {
      "needs_background": "light"
     },
     "output_type": "display_data"
    }
   ],
   "source": [
    "# Plot retweet by favorite count\n",
    "stats_by_breed.plot(x='retweet_count', y='favorite_count', kind='scatter')\n",
    "sns.regplot(stats_by_breed['retweet_count'], stats_by_breed['favorite_count'])\n",
    "plt.title('Favorite count v. Rating of Tweets')"
   ]
  },
  {
   "cell_type": "markdown",
   "metadata": {},
   "source": [
    "There's a very strong correlation between favorite and retweet count. This might be expected because the more views or actions on a tweet could cause both retweets and favorites. People who tend to favorite might also share this with friends.\n",
    "\n",
    "I can probably guess that for dog breeds, the types with higher favorite counts would also have higher retweet counts."
   ]
  },
  {
   "cell_type": "code",
   "execution_count": 785,
   "metadata": {},
   "outputs": [
    {
     "data": {
      "text/plain": [
       "Text(0.5, 0, 'Dog Breed')"
      ]
     },
     "execution_count": 785,
     "metadata": {},
     "output_type": "execute_result"
    },
    {
     "data": {
      "image/png": "[encoded data removed]",
      "text/plain": [
       "<Figure size 1080x576 with 2 Axes>"
      ]
     },
     "metadata": {
      "needs_background": "light"
     },
     "output_type": "display_data"
    }
   ],
   "source": [
    "plt.figure(figsize=(15,8))\n",
    "\n",
    "plt.subplot(121)\n",
    "df_filtered_breeds.groupby(\"dog_breed\").mean().sort_values('retweet_count').retweet_count.plot(kind=\"bar\")\n",
    "plt.title(\"Retweet Counts by Dog Breed\")\n",
    "plt.ylabel(\"Retweet Count\")\n",
    "plt.xlabel(\"Dog Breed\")\n",
    "\n",
    "plt.subplot(122)\n",
    "df_filtered_breeds.groupby(\"dog_breed\").mean().sort_values('favorite_count').favorite_count.plot(kind=\"bar\")\n",
    "plt.title(\"Favorite Counts by Dog Breed\")\n",
    "plt.ylabel(\"Favorite Count\")\n",
    "plt.xlabel(\"Dog Breed\")"
   ]
  },
  {
   "cell_type": "markdown",
   "metadata": {},
   "source": [
    "The highest retweet and favorite count belongs to the french bulldog. The maltese dog, shi tzu, and beagle are in the bottom 3 for both retweet and favorite counts.\n",
    "\n",
    "### Insights for Dog Stage"
   ]
  },
  {
   "cell_type": "code",
   "execution_count": 18,
   "metadata": {},
   "outputs": [
    {
     "data": {
      "text/plain": [
       "332"
      ]
     },
     "execution_count": 18,
     "metadata": {},
     "output_type": "execute_result"
    }
   ],
   "source": [
    "# Filter out tweets with no dog stage classification\n",
    "df_doggo_filtered = df_doggo[~df_doggo.dog_stage.isnull()]\n",
    "\n",
    "df_doggo_filtered.shape[0]"
   ]
  },
  {
   "cell_type": "code",
   "execution_count": 25,
   "metadata": {},
   "outputs": [
    {
     "data": {
      "image/png": "[encoded data removed]",
      "text/plain": [
       "<Figure size 432x288 with 1 Axes>"
      ]
     },
     "metadata": {
      "needs_background": "light"
     },
     "output_type": "display_data"
    }
   ],
   "source": [
    "# Plot ratings\n",
    "df_doggo_filtered.groupby(\"dog_stage\").mean().sort_values('rating_numerator').rating_numerator.plot(kind=\"bar\")\n",
    "plt.title(\"Average Ratings by Dog Stage\")\n",
    "plt.ylabel(\"Average Rating\")\n",
    "plt.xlabel(\"Dog Stage\")\n",
    "plt.ylim(9,12);"
   ]
  },
  {
   "cell_type": "markdown",
   "metadata": {},
   "source": [
    "Puppo has the highest average rating followed by floofer then doggo. Pupper has the lowest average rating."
   ]
  },
  {
   "cell_type": "code",
   "execution_count": 27,
   "metadata": {},
   "outputs": [
    {
     "data": {
      "text/plain": [
       "Text(0.5, 0, 'Dog Stage')"
      ]
     },
     "execution_count": 27,
     "metadata": {},
     "output_type": "execute_result"
    },
    {
     "data": {
      "image/png": "[encoded data removed]",
      "text/plain": [
       "<Figure size 1080x576 with 2 Axes>"
      ]
     },
     "metadata": {
      "needs_background": "light"
     },
     "output_type": "display_data"
    }
   ],
   "source": [
    "plt.figure(figsize=(15,8))\n",
    "\n",
    "plt.subplot(121)\n",
    "df_doggo_filtered.groupby(\"dog_stage\").mean().sort_values('retweet_count').retweet_count.plot(kind=\"bar\")\n",
    "plt.title(\"Retweet Counts by Dog Stage\")\n",
    "plt.ylabel(\"Retweet Count\")\n",
    "plt.xlabel(\"Dog Stage\")\n",
    "\n",
    "plt.subplot(122)\n",
    "df_doggo_filtered.groupby(\"dog_stage\").mean().sort_values('favorite_count').favorite_count.plot(kind=\"bar\")\n",
    "plt.title(\"Favorite Counts by Dog Stage\")\n",
    "plt.ylabel(\"Favorite Count\")\n",
    "plt.xlabel(\"Dog Stage\")"
   ]
  },
  {
   "cell_type": "markdown",
   "metadata": {},
   "source": [
    "Similar to the previous analysis on average rating, pupper has the lowest retweet and favorite count. Doggo and puppo share the first 2 highest counts."
   ]
  },
  {
   "cell_type": "code",
   "execution_count": null,
   "metadata": {},
   "outputs": [],
   "source": []
  },
  {
   "cell_type": "code",
   "execution_count": null,
   "metadata": {},
   "outputs": [],
   "source": []
  }
 ],
 "metadata": {
  "kernelspec": {
   "display_name": "Python 3",
   "language": "python",
   "name": "python3"
  },
  "language_info": {
   "codemirror_mode": {
    "name": "ipython",
    "version": 3
   },
   "file_extension": ".py",
   "mimetype": "text/x-python",
   "name": "python",
   "nbconvert_exporter": "python",
   "pygments_lexer": "ipython3",
   "version": "3.7.3"
  }
 },
 "nbformat": 4,
 "nbformat_minor": 2
}
